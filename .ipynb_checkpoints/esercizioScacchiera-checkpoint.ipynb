{
 "cells": [
  {
   "cell_type": "markdown",
   "id": "05183544",
   "metadata": {},
   "source": [
    "Disegnare un quadrato formato da picccoli quadrati (input = size(Quadrato), l = size(quadrato))\n",
    "Colorare di un colore tutte celle pari(a scacchiera)\n",
    "Le restanti di una sfumatura"
   ]
  },
  {
   "cell_type": "code",
   "execution_count": 1,
   "id": "f519277e",
   "metadata": {},
   "outputs": [],
   "source": [
    "import numpy as np\n"
   ]
  },
  {
   "cell_type": "code",
   "execution_count": 5,
   "id": "eb767cf1",
   "metadata": {},
   "outputs": [
    {
     "data": {
      "text/plain": [
       "array([[0., 0., 0., 0., 0.],\n",
       "       [0., 0., 0., 0., 0.],\n",
       "       [0., 0., 0., 0., 0.],\n",
       "       [0., 0., 0., 0., 0.],\n",
       "       [0., 0., 0., 0., 0.]])"
      ]
     },
     "execution_count": 5,
     "metadata": {},
     "output_type": "execute_result"
    }
   ],
   "source": [
    "size = 5\n",
    "l = 1\n",
    "\n",
    "quadratoGrande = np.zeros((size, size))\n",
    "quadratoGrande"
   ]
  },
  {
   "cell_type": "code",
   "execution_count": null,
   "id": "8889ff51",
   "metadata": {},
   "outputs": [],
   "source": []
  }
 ],
 "metadata": {
  "kernelspec": {
   "display_name": "Python 3 (ipykernel)",
   "language": "python",
   "name": "python3"
  },
  "language_info": {
   "codemirror_mode": {
    "name": "ipython",
    "version": 3
   },
   "file_extension": ".py",
   "mimetype": "text/x-python",
   "name": "python",
   "nbconvert_exporter": "python",
   "pygments_lexer": "ipython3",
   "version": "3.10.9"
  }
 },
 "nbformat": 4,
 "nbformat_minor": 5
}
