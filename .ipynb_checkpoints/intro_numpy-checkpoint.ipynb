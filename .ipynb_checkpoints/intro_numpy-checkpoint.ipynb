{
 "cells": [
  {
   "cell_type": "code",
   "execution_count": 1,
   "id": "93ac1109",
   "metadata": {},
   "outputs": [],
   "source": [
    "import numpy as np"
   ]
  },
  {
   "cell_type": "code",
   "execution_count": 2,
   "id": "cbab6e4e",
   "metadata": {
    "scrolled": true
   },
   "outputs": [
    {
     "name": "stdout",
     "output_type": "stream",
     "text": [
      "723 ms ± 12.5 ms per loop (mean ± std. dev. of 7 runs, 1 loop each)\n"
     ]
    }
   ],
   "source": [
    "%%timeit\n",
    "quadrati = []\n",
    "for i in range(1000000):\n",
    "    quadrati.append(i**2)"
   ]
  },
  {
   "cell_type": "code",
   "execution_count": 3,
   "id": "e0bc69eb",
   "metadata": {},
   "outputs": [
    {
     "ename": "NameError",
     "evalue": "name 'quadrati' is not defined",
     "output_type": "error",
     "traceback": [
      "\u001b[1;31m---------------------------------------------------------------------------\u001b[0m",
      "\u001b[1;31mNameError\u001b[0m                                 Traceback (most recent call last)",
      "Cell \u001b[1;32mIn[3], line 1\u001b[0m\n\u001b[1;32m----> 1\u001b[0m \u001b[43mquadrati\u001b[49m\n",
      "\u001b[1;31mNameError\u001b[0m: name 'quadrati' is not defined"
     ]
    }
   ],
   "source": [
    "quadrati"
   ]
  },
  {
   "cell_type": "code",
   "execution_count": null,
   "id": "cdba8e56",
   "metadata": {},
   "outputs": [],
   "source": [
    "%%timeit\n",
    "quadrati = np.arange(0, 1000000)**2\n"
   ]
  },
  {
   "cell_type": "code",
   "execution_count": null,
   "id": "db49bbf7",
   "metadata": {},
   "outputs": [],
   "source": [
    "quadrati"
   ]
  },
  {
   "cell_type": "markdown",
   "id": "442e4202",
   "metadata": {},
   "source": [
    "### Creare gli array unidimensionali"
   ]
  },
  {
   "cell_type": "code",
   "execution_count": null,
   "id": "bbcfb7a6",
   "metadata": {},
   "outputs": [],
   "source": [
    "array_di_zeri = np.zeros(10)\n",
    "array_di_zeri"
   ]
  },
  {
   "cell_type": "code",
   "execution_count": null,
   "id": "ff838d09",
   "metadata": {},
   "outputs": [],
   "source": [
    "array_di_zeri.dtype"
   ]
  },
  {
   "cell_type": "code",
   "execution_count": null,
   "id": "f2784e5d",
   "metadata": {},
   "outputs": [],
   "source": [
    "array_di_zeri_int = np.zeros(10, dtype=np.int8)\n",
    "array_di_zeri_int"
   ]
  },
  {
   "cell_type": "code",
   "execution_count": null,
   "id": "7b612cbe",
   "metadata": {},
   "outputs": [],
   "source": [
    "array_di_uni = np.ones(10)\n",
    "array_di_uni"
   ]
  },
  {
   "cell_type": "code",
   "execution_count": null,
   "id": "68feb987",
   "metadata": {},
   "outputs": [],
   "source": [
    "array_di_cinque = np.ones(10)*5  ##di chiama broadcast\n",
    "array_di_cinque"
   ]
  },
  {
   "cell_type": "code",
   "execution_count": null,
   "id": "64910184",
   "metadata": {},
   "outputs": [],
   "source": [
    "lista = [1, 2, 3, 4, 5, 1000]\n",
    "array_da_lista_numeri = np.array(lista)\n",
    "array_da_lista_numeri #array di numeri"
   ]
  },
  {
   "cell_type": "code",
   "execution_count": null,
   "id": "53fe1fb5",
   "metadata": {},
   "outputs": [],
   "source": [
    "lista = [1, 2, 3, 4, 5, 1000, \"c\"]\n",
    "array_da_lista_numeri = np.array(lista)\n",
    "array_da_lista_numeri #array di stringhe"
   ]
  },
  {
   "cell_type": "code",
   "execution_count": null,
   "id": "fe2a1538",
   "metadata": {},
   "outputs": [],
   "source": [
    "np.random.uniform(3, 5) #float a caso"
   ]
  },
  {
   "cell_type": "code",
   "execution_count": null,
   "id": "db6abc15",
   "metadata": {},
   "outputs": [],
   "source": [
    "float_casuali = np.random.uniform(3, 5, 10) #array di float casuali"
   ]
  },
  {
   "cell_type": "code",
   "execution_count": null,
   "id": "50e72a5d",
   "metadata": {},
   "outputs": [],
   "source": [
    "int_casuali = np.random.randint(1, 7, 10) #10 numeri interi tra 1(incluso) e 7(escluso)\n",
    "int_casuali"
   ]
  },
  {
   "cell_type": "code",
   "execution_count": null,
   "id": "2eeb5e6a",
   "metadata": {},
   "outputs": [],
   "source": [
    "alice = np.random.randint(1, 7, 10)\n",
    "bob = np.random.randint(1, 7, 10)"
   ]
  },
  {
   "cell_type": "code",
   "execution_count": null,
   "id": "755daaf1",
   "metadata": {},
   "outputs": [],
   "source": [
    "print(f\"lanci del dado di alice: {alice}\")\n",
    "print(f\"lanci del dado di alice: {bob}\")"
   ]
  },
  {
   "cell_type": "code",
   "execution_count": null,
   "id": "7a4ae008",
   "metadata": {},
   "outputs": [],
   "source": [
    "alice > bob"
   ]
  },
  {
   "cell_type": "code",
   "execution_count": null,
   "id": "2baf2c97",
   "metadata": {},
   "outputs": [],
   "source": [
    "print(f\"alice batte bob {np.count_nonzero(alice > bob)} volte\")"
   ]
  },
  {
   "cell_type": "code",
   "execution_count": null,
   "id": "fef9098a",
   "metadata": {},
   "outputs": [],
   "source": [
    "vittorie_alice = alice > bob #alice > bob e un array di bool\n",
    "vittorie_alice.dtype"
   ]
  },
  {
   "cell_type": "code",
   "execution_count": null,
   "id": "dafd8d8e",
   "metadata": {},
   "outputs": [],
   "source": [
    "array_di_interi = np.arange(4, 10)\n",
    "array_di_interi"
   ]
  },
  {
   "cell_type": "code",
   "execution_count": null,
   "id": "14cff70d",
   "metadata": {},
   "outputs": [],
   "source": [
    "quadrati = np.arange(1, 11)**2\n",
    "quadrati"
   ]
  },
  {
   "cell_type": "code",
   "execution_count": null,
   "id": "407f11d6",
   "metadata": {},
   "outputs": [],
   "source": [
    "array1 = np.arange(1, 5)\n",
    "array1"
   ]
  },
  {
   "cell_type": "code",
   "execution_count": null,
   "id": "ef9a2ea4",
   "metadata": {},
   "outputs": [],
   "source": [
    "array2 = np.ones(4)\n",
    "array2"
   ]
  },
  {
   "cell_type": "code",
   "execution_count": null,
   "id": "46aa3eae",
   "metadata": {},
   "outputs": [],
   "source": [
    "array1.dtype"
   ]
  },
  {
   "cell_type": "code",
   "execution_count": null,
   "id": "30f367b1",
   "metadata": {},
   "outputs": [],
   "source": [
    "array2.dtype"
   ]
  },
  {
   "cell_type": "code",
   "execution_count": null,
   "id": "29d02345",
   "metadata": {},
   "outputs": [],
   "source": [
    "somma = array1 + array2\n",
    "somma"
   ]
  },
  {
   "cell_type": "code",
   "execution_count": null,
   "id": "eac77478",
   "metadata": {},
   "outputs": [],
   "source": [
    "somma.dtype"
   ]
  },
  {
   "cell_type": "markdown",
   "id": "8c0c0b3d",
   "metadata": {},
   "source": [
    "### Creazione array 1D\n",
    "\n",
    "array di zeri:\n",
    "\n",
    "    np. zeros()\n",
    "\n",
    "array di uni:\n",
    "\n",
    "    np.ones()\n",
    "\n",
    "array da liste:\n",
    "\n",
    "    np.array()\n",
    "    \n",
    "array d interi crescenti:\n",
    "\n",
    "    np. arange\n",
    "\n",
    "array pseudocasuali:\n",
    "\n",
    "    np.random.randint\n",
    "    np.random.uniform"
   ]
  },
  {
   "cell_type": "markdown",
   "id": "48af976c",
   "metadata": {},
   "source": [
    "### Array pseudocasuali"
   ]
  },
  {
   "cell_type": "code",
   "execution_count": 4,
   "id": "3919bb5e",
   "metadata": {},
   "outputs": [
    {
     "data": {
      "text/plain": [
       "array([1, 1, 2, 2, 1, 1, 1, 2, 2, 1])"
      ]
     },
     "execution_count": 4,
     "metadata": {},
     "output_type": "execute_result"
    }
   ],
   "source": [
    "np. random.randint(1, 3, 10)"
   ]
  },
  {
   "cell_type": "code",
   "execution_count": 5,
   "id": "d02b7716",
   "metadata": {},
   "outputs": [
    {
     "data": {
      "text/plain": [
       "array([0.92779233, 0.63279723, 0.11103343, 0.58837336, 0.74647099,\n",
       "       0.08153843, 0.08501717, 0.55658757, 0.01287538, 0.60261686])"
      ]
     },
     "execution_count": 5,
     "metadata": {},
     "output_type": "execute_result"
    }
   ],
   "source": [
    "np.random.uniform(0, 1, 10)"
   ]
  },
  {
   "cell_type": "code",
   "execution_count": 8,
   "id": "e55d6954",
   "metadata": {},
   "outputs": [
    {
     "data": {
      "text/plain": [
       "array([178.62379479, 162.91770711, 185.8514077 , 187.73600131,\n",
       "       185.32498656, 180.96046156, 169.46519696, 180.81925573,\n",
       "       170.13424165, 160.73898955])"
      ]
     },
     "execution_count": 8,
     "metadata": {},
     "output_type": "execute_result"
    }
   ],
   "source": [
    "np.random.normal(175, 12, 10)  #sorteggia flot secondo dev. standard"
   ]
  },
  {
   "cell_type": "code",
   "execution_count": 24,
   "id": "a574a1b6",
   "metadata": {},
   "outputs": [
    {
     "data": {
      "text/plain": [
       "array([177.17086804, 174.7539795 , 176.19485963, ..., 174.60392828,\n",
       "       175.54352834, 174.81425087])"
      ]
     },
     "execution_count": 24,
     "metadata": {},
     "output_type": "execute_result"
    }
   ],
   "source": [
    "altezze = np.random.normal(175, 2, 10000)\n",
    "altezze"
   ]
  },
  {
   "cell_type": "code",
   "execution_count": 25,
   "id": "40ee3740",
   "metadata": {},
   "outputs": [
    {
     "data": {
      "text/plain": [
       "174.9935397034083"
      ]
     },
     "execution_count": 25,
     "metadata": {},
     "output_type": "execute_result"
    }
   ],
   "source": [
    "np.mean(altezze)"
   ]
  },
  {
   "cell_type": "code",
   "execution_count": 26,
   "id": "03bc5699",
   "metadata": {},
   "outputs": [
    {
     "data": {
      "text/plain": [
       "1.9913118614622298"
      ]
     },
     "execution_count": 26,
     "metadata": {},
     "output_type": "execute_result"
    }
   ],
   "source": [
    "np.std(altezze)"
   ]
  },
  {
   "cell_type": "markdown",
   "id": "fc9804f6",
   "metadata": {},
   "source": [
    "## Indicizzazione per booleani\n",
    "#### Una delle funzioni più potenti di numpy"
   ]
  },
  {
   "cell_type": "code",
   "execution_count": 28,
   "id": "48f1fed0",
   "metadata": {},
   "outputs": [
    {
     "data": {
      "text/plain": [
       "array([5, 4, 6, 1, 4, 3, 3, 3, 2, 6])"
      ]
     },
     "execution_count": 28,
     "metadata": {},
     "output_type": "execute_result"
    }
   ],
   "source": [
    "lanci_dadi = np.random.randint(1, 7, 10)\n",
    "lanci_dadi"
   ]
  },
  {
   "cell_type": "markdown",
   "id": "f80529d8",
   "metadata": {},
   "source": [
    "quali sono i lanci in cui il valore del dado era > 3?"
   ]
  },
  {
   "cell_type": "code",
   "execution_count": 30,
   "id": "4252e56e",
   "metadata": {},
   "outputs": [
    {
     "data": {
      "text/plain": [
       "array([ True,  True,  True, False,  True, False, False, False, False,\n",
       "        True])"
      ]
     },
     "execution_count": 30,
     "metadata": {},
     "output_type": "execute_result"
    }
   ],
   "source": [
    "lanci_gt_3 = lanci_dadi > 3\n",
    "lanci_gt_3"
   ]
  },
  {
   "cell_type": "code",
   "execution_count": 32,
   "id": "887e6973",
   "metadata": {},
   "outputs": [
    {
     "data": {
      "text/plain": [
       "array([5, 4, 6, 4, 6])"
      ]
     },
     "execution_count": 32,
     "metadata": {},
     "output_type": "execute_result"
    }
   ],
   "source": [
    "lanci_dadi[lanci_gt_3] # indicizzo array con array di booleani (filtra l'array dando solo valori > 3)"
   ]
  },
  {
   "cell_type": "code",
   "execution_count": 33,
   "id": "ec7cb770",
   "metadata": {},
   "outputs": [],
   "source": [
    "nomi = np.array([\"Alice\", \"Bob\", \"Trudy\"])\n",
    "voti = np.array([7, 9, 2])"
   ]
  },
  {
   "cell_type": "markdown",
   "id": "d9adcd96",
   "metadata": {},
   "source": [
    "quali alunni sono sufficienti?"
   ]
  },
  {
   "cell_type": "code",
   "execution_count": 35,
   "id": "57aeba5f",
   "metadata": {},
   "outputs": [
    {
     "data": {
      "text/plain": [
       "array(['Alice', 'Bob'], dtype='<U5')"
      ]
     },
     "execution_count": 35,
     "metadata": {},
     "output_type": "execute_result"
    }
   ],
   "source": [
    "nomi[voti >= 6]"
   ]
  },
  {
   "cell_type": "code",
   "execution_count": 37,
   "id": "0b025642",
   "metadata": {},
   "outputs": [
    {
     "data": {
      "text/plain": [
       "array([6, 5, 4, 5, 5, 4])"
      ]
     },
     "execution_count": 37,
     "metadata": {},
     "output_type": "execute_result"
    }
   ],
   "source": [
    "alice[alice > bob]"
   ]
  },
  {
   "cell_type": "code",
   "execution_count": null,
   "id": "e538bc64",
   "metadata": {},
   "outputs": [],
   "source": []
  }
 ],
 "metadata": {
  "kernelspec": {
   "display_name": "Python 3 (ipykernel)",
   "language": "python",
   "name": "python3"
  },
  "language_info": {
   "codemirror_mode": {
    "name": "ipython",
    "version": 3
   },
   "file_extension": ".py",
   "mimetype": "text/x-python",
   "name": "python",
   "nbconvert_exporter": "python",
   "pygments_lexer": "ipython3",
   "version": "3.10.9"
  }
 },
 "nbformat": 4,
 "nbformat_minor": 5
}
