{
 "cells": [
  {
   "cell_type": "markdown",
   "id": "ca40e9bf",
   "metadata": {},
   "source": [
    "### Esercizio _Sei personaggi in cerca di autore di Pirendello_"
   ]
  },
  {
   "cell_type": "code",
   "execution_count": 1,
   "id": "826fd39f",
   "metadata": {},
   "outputs": [],
   "source": [
    "def leggiFile():\n",
    "    file = open(\"sei_personaggi_in_cerca_dautore_Luigi_Pirandello.txt\", \"r\")\n",
    "    parole = file.read()\n",
    "    file.close()\n",
    "    \n",
    "    return parole"
   ]
  },
  {
   "cell_type": "code",
   "execution_count": 2,
   "id": "b92bb74a",
   "metadata": {},
   "outputs": [],
   "source": [
    "def creaListaParole(testo):\n",
    "    testoPulito = rimuoviPunteggiatura(testo)\n",
    "    listaParole = testoPulito.split()\n",
    "    \n",
    "    return listaParole"
   ]
  },
  {
   "cell_type": "code",
   "execution_count": null,
   "id": "5ba9a2e6",
   "metadata": {},
   "outputs": [],
   "source": [
    "def rimuoviPunteggiatura(testo):\n",
    "    punteggiatura = ''\n",
    "    \n",
    "    testoPulito = ''.join(carattere for carattere in testo if carattere not in punteggiatura)\n",
    "    return testoPulito.lower()"
   ]
  },
  {
   "cell_type": "code",
   "execution_count": 3,
   "id": "33dc81fe",
   "metadata": {},
   "outputs": [],
   "source": [
    "def creaDizFrequenze(lista):\n",
    "    frequenze = {}\n",
    "\n",
    "    for elemento in lista:\n",
    "        if elemento in frequenze:\n",
    "            frequenze[elemento] += 1\n",
    "        else:\n",
    "            frequenze[elemento] = 1\n",
    "\n",
    "    return frequenze"
   ]
  },
  {
   "cell_type": "code",
   "execution_count": 4,
   "id": "e92fd467",
   "metadata": {},
   "outputs": [
    {
     "ename": "NameError",
     "evalue": "name 'rimuoviPunteggiatura' is not defined",
     "output_type": "error",
     "traceback": [
      "\u001b[1;31m---------------------------------------------------------------------------\u001b[0m",
      "\u001b[1;31mNameError\u001b[0m                                 Traceback (most recent call last)",
      "Cell \u001b[1;32mIn[4], line 4\u001b[0m\n\u001b[0;32m      1\u001b[0m parole \u001b[38;5;241m=\u001b[39m leggiFile()\n\u001b[0;32m      2\u001b[0m \u001b[38;5;66;03m#print(parole)\u001b[39;00m\n\u001b[1;32m----> 4\u001b[0m listaParole \u001b[38;5;241m=\u001b[39m \u001b[43mcreaListaParole\u001b[49m\u001b[43m(\u001b[49m\u001b[43mparole\u001b[49m\u001b[43m)\u001b[49m\n\u001b[0;32m      5\u001b[0m \u001b[38;5;66;03m#print(listaParole)\u001b[39;00m\n\u001b[0;32m      7\u001b[0m dizFrequenze \u001b[38;5;241m=\u001b[39m creaDizFrequenze(listaParole)\n",
      "Cell \u001b[1;32mIn[2], line 2\u001b[0m, in \u001b[0;36mcreaListaParole\u001b[1;34m(testo)\u001b[0m\n\u001b[0;32m      1\u001b[0m \u001b[38;5;28;01mdef\u001b[39;00m \u001b[38;5;21mcreaListaParole\u001b[39m(testo):\n\u001b[1;32m----> 2\u001b[0m     testoPulito \u001b[38;5;241m=\u001b[39m \u001b[43mrimuoviPunteggiatura\u001b[49m(testo)\n\u001b[0;32m      3\u001b[0m     listaParole \u001b[38;5;241m=\u001b[39m testoPulito\u001b[38;5;241m.\u001b[39msplit()\n\u001b[0;32m      5\u001b[0m     \u001b[38;5;28;01mreturn\u001b[39;00m listaParole\n",
      "\u001b[1;31mNameError\u001b[0m: name 'rimuoviPunteggiatura' is not defined"
     ]
    }
   ],
   "source": [
    "parole = leggiFile()\n",
    "#print(parole)\n",
    "\n",
    "listaParole = creaListaParole(parole)\n",
    "#print(listaParole)\n",
    " \n",
    "dizFrequenze = creaDizFrequenze(listaParole)\n",
    "dizFrequenze\n"
   ]
  },
  {
   "cell_type": "code",
   "execution_count": null,
   "id": "e95ce1dd",
   "metadata": {},
   "outputs": [],
   "source": []
  }
 ],
 "metadata": {
  "kernelspec": {
   "display_name": "Python 3 (ipykernel)",
   "language": "python",
   "name": "python3"
  },
  "language_info": {
   "codemirror_mode": {
    "name": "ipython",
    "version": 3
   },
   "file_extension": ".py",
   "mimetype": "text/x-python",
   "name": "python",
   "nbconvert_exporter": "python",
   "pygments_lexer": "ipython3",
   "version": "3.10.9"
  }
 },
 "nbformat": 4,
 "nbformat_minor": 5
}
