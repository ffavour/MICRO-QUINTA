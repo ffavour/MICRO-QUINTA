{
 "cells": [
  {
   "cell_type": "code",
   "execution_count": 1,
   "id": "501dcc61",
   "metadata": {},
   "outputs": [],
   "source": [
    "def somma_nidificata(lista_di_liste):\n",
    "    somma = 0\n",
    "    for lista in lista_di_liste:\n",
    "        for elemento in lista:\n",
    "            somma += elemento\n",
    "    return somma"
   ]
  },
  {
   "cell_type": "code",
   "execution_count": 3,
   "id": "7a15445e",
   "metadata": {},
   "outputs": [
    {
     "name": "stdout",
     "output_type": "stream",
     "text": [
      "21\n"
     ]
    }
   ],
   "source": [
    "t = [[1, 2], [3], [4, 5, 6]]\n",
    "print(somma_nidificata(t))"
   ]
  },
  {
   "cell_type": "code",
   "execution_count": null,
   "id": "81d34a18",
   "metadata": {},
   "outputs": [],
   "source": []
  }
 ],
 "metadata": {
  "kernelspec": {
   "display_name": "Python 3 (ipykernel)",
   "language": "python",
   "name": "python3"
  },
  "language_info": {
   "codemirror_mode": {
    "name": "ipython",
    "version": 3
   },
   "file_extension": ".py",
   "mimetype": "text/x-python",
   "name": "python",
   "nbconvert_exporter": "python",
   "pygments_lexer": "ipython3",
   "version": "3.10.9"
  }
 },
 "nbformat": 4,
 "nbformat_minor": 5
}
