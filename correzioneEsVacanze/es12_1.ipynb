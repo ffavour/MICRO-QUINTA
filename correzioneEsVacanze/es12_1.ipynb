{
 "cells": [
  {
   "cell_type": "markdown",
   "id": "91d2515b",
   "metadata": {},
   "source": [
    "### ESERCIZIO 12_1\n",
    "Scrivete una funzione di nome piu_frequente che riceva una stringa e stampi le\n",
    "lettere in ordine di frequenza decrescente. Trovate delle frasi di esempio in diverse lingue e osservate\n",
    "come varia la frequenza delle lettere. Confrontate i vostri risultati con le tabelle del sito http:\n",
    "// en. wikipedia. org/ wiki/ Letter_ frequencies . Soluzione: http: // thinkpython2.\n",
    "com/ code/ most_ frequent. py ."
   ]
  },
  {
   "cell_type": "code",
   "execution_count": null,
   "id": "b42afaa4",
   "metadata": {},
   "outputs": [],
   "source": [
    "def piu_frequente(stringa):\n",
    "    frequenze = {}\n",
    "\n",
    "    for lettera in stringa:\n",
    "        if lettera in frequenze:\n",
    "            frequenze[lettera] += 1\n",
    "        else:\n",
    "            frequenze[lettera] = 1\n",
    "\n",
    "    return frequenze"
   ]
  },
  {
   "cell_type": "code",
   "execution_count": null,
   "id": "f0dd6a6d",
   "metadata": {},
   "outputs": [],
   "source": [
    "s = \"abbbeeaaaayy\"\n",
    "diz = piu_frequente(s)\n",
    "print(diz)"
   ]
  },
  {
   "cell_type": "code",
   "execution_count": null,
   "id": "f0dc085d",
   "metadata": {},
   "outputs": [],
   "source": []
  }
 ],
 "metadata": {
  "kernelspec": {
   "display_name": "Python 3 (ipykernel)",
   "language": "python",
   "name": "python3"
  },
  "language_info": {
   "codemirror_mode": {
    "name": "ipython",
    "version": 3
   },
   "file_extension": ".py",
   "mimetype": "text/x-python",
   "name": "python",
   "nbconvert_exporter": "python",
   "pygments_lexer": "ipython3",
   "version": "3.10.9"
  }
 },
 "nbformat": 4,
 "nbformat_minor": 5
}
