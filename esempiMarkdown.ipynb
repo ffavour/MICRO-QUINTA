{
 "cells": [
  {
   "cell_type": "markdown",
   "id": "adbafa25",
   "metadata": {},
   "source": [
    "# Titolo principale\n",
    "## titolo secondario\n",
    "### titolo secondario"
   ]
  },
  {
   "cell_type": "markdown",
   "id": "23976b2d",
   "metadata": {},
   "source": [
    "Questa *parola* è importante\n",
    "\n",
    "Questa **parola** è ancora più importante\n",
    "\n",
    "Un elenco:\n",
    "- a\n",
    "- b\n",
    "- c\n",
    "\n",
    "Del codice:\n",
    "\n",
    "    lambda f = x:x**2\n",
    "    y = f(3)\n",
    "    print(y)\n",
    " \n",
    "Cosa fa questo codice?\n",
    "    "
   ]
  },
  {
   "cell_type": "code",
   "execution_count": 1,
   "id": "411ba229",
   "metadata": {},
   "outputs": [],
   "source": [
    "def f(x):\n",
    "    return x**2"
   ]
  },
  {
   "cell_type": "code",
   "execution_count": 2,
   "id": "2202de5c",
   "metadata": {},
   "outputs": [
    {
     "data": {
      "text/plain": [
       "9"
      ]
     },
     "execution_count": 2,
     "metadata": {},
     "output_type": "execute_result"
    }
   ],
   "source": [
    "f(3)"
   ]
  },
  {
   "cell_type": "code",
   "execution_count": 5,
   "id": "fc1114a0",
   "metadata": {},
   "outputs": [],
   "source": [
    " f = lambda x : x**2"
   ]
  },
  {
   "cell_type": "code",
   "execution_count": 6,
   "id": "40c4f70b",
   "metadata": {},
   "outputs": [
    {
     "data": {
      "text/plain": [
       "16"
      ]
     },
     "execution_count": 6,
     "metadata": {},
     "output_type": "execute_result"
    }
   ],
   "source": [
    "f(4)"
   ]
  },
  {
   "cell_type": "code",
   "execution_count": 9,
   "id": "61a19a8c",
   "metadata": {},
   "outputs": [],
   "source": [
    "somma = lambda a,b : a + b"
   ]
  },
  {
   "cell_type": "code",
   "execution_count": 10,
   "id": "dcb260a6",
   "metadata": {},
   "outputs": [
    {
     "data": {
      "text/plain": [
       "11"
      ]
     },
     "execution_count": 10,
     "metadata": {},
     "output_type": "execute_result"
    }
   ],
   "source": [
    "somma(5,6)"
   ]
  },
  {
   "cell_type": "code",
   "execution_count": null,
   "id": "21829494",
   "metadata": {},
   "outputs": [],
   "source": []
  }
 ],
 "metadata": {
  "kernelspec": {
   "display_name": "Python 3 (ipykernel)",
   "language": "python",
   "name": "python3"
  },
  "language_info": {
   "codemirror_mode": {
    "name": "ipython",
    "version": 3
   },
   "file_extension": ".py",
   "mimetype": "text/x-python",
   "name": "python",
   "nbconvert_exporter": "python",
   "pygments_lexer": "ipython3",
   "version": "3.10.9"
  }
 },
 "nbformat": 4,
 "nbformat_minor": 5
}
