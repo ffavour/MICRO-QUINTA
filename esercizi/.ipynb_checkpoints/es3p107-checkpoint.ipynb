{
 "cells": [
  {
   "cell_type": "markdown",
   "id": "ecffc8a1",
   "metadata": {},
   "source": [
    "#### es3 p107\n",
    "Simula diecimila partite ciascuna da 1000 lanci di una moneta. In quante partite si riscontra almeno il 55% di\n",
    "croci sui 1000 lanci?"
   ]
  },
  {
   "cell_type": "code",
   "execution_count": 36,
   "id": "9ed25af6",
   "metadata": {},
   "outputs": [],
   "source": [
    "import numpy as np"
   ]
  },
  {
   "cell_type": "code",
   "execution_count": 49,
   "id": "547a26cb",
   "metadata": {},
   "outputs": [
    {
     "data": {
      "text/plain": [
       "array([[0, 1, 1, ..., 1, 1, 1],\n",
       "       [1, 0, 0, ..., 1, 1, 1],\n",
       "       [1, 0, 0, ..., 1, 1, 1],\n",
       "       ...,\n",
       "       [0, 1, 0, ..., 1, 0, 1],\n",
       "       [1, 0, 1, ..., 1, 1, 0],\n",
       "       [0, 1, 1, ..., 0, 0, 1]])"
      ]
     },
     "execution_count": 49,
     "metadata": {},
     "output_type": "execute_result"
    }
   ],
   "source": [
    "# 0 = testa - 1 = croce\n",
    "partite = 10000\n",
    "lanci = 1000\n",
    "\n",
    "simulazione = np.random.randint(0, 2, (partite, lanci))  # 1 partita = 1000 lanci\n",
    "simulazione"
   ]
  },
  {
   "cell_type": "code",
   "execution_count": 50,
   "id": "0875e4fa",
   "metadata": {},
   "outputs": [
    {
     "data": {
      "text/plain": [
       "array([497, 488, 520, ..., 505, 519, 519], dtype=int64)"
      ]
     },
     "execution_count": 50,
     "metadata": {},
     "output_type": "execute_result"
    }
   ],
   "source": [
    "crociPerPartita = np.count_nonzero(simulazione, axis=1) #occorrenze di croce per array\n",
    "crociPerPartita"
   ]
  },
  {
   "cell_type": "code",
   "execution_count": 51,
   "id": "a94532b1",
   "metadata": {},
   "outputs": [
    {
     "data": {
      "text/plain": [
       "array([49.7, 48.8, 52. , ..., 50.5, 51.9, 51.9])"
      ]
     },
     "execution_count": 51,
     "metadata": {},
     "output_type": "execute_result"
    }
   ],
   "source": [
    "percentualiCroce = (crociPerPartita * 100) / lanci\n",
    "percentualiCroce"
   ]
  },
  {
   "cell_type": "code",
   "execution_count": 52,
   "id": "230f37b0",
   "metadata": {},
   "outputs": [
    {
     "data": {
      "text/plain": [
       "array([56.8, 55.1, 55.3, 55.2, 55. , 55.1, 55.4, 55.8, 55.3, 55.3, 55.2,\n",
       "       55.2])"
      ]
     },
     "execution_count": 52,
     "metadata": {},
     "output_type": "execute_result"
    }
   ],
   "source": [
    "percentualiCroce[percentualiCroce >= 55]"
   ]
  },
  {
   "cell_type": "code",
   "execution_count": null,
   "id": "3c188471",
   "metadata": {},
   "outputs": [],
   "source": []
  }
 ],
 "metadata": {
  "kernelspec": {
   "display_name": "Python 3 (ipykernel)",
   "language": "python",
   "name": "python3"
  },
  "language_info": {
   "codemirror_mode": {
    "name": "ipython",
    "version": 3
   },
   "file_extension": ".py",
   "mimetype": "text/x-python",
   "name": "python",
   "nbconvert_exporter": "python",
   "pygments_lexer": "ipython3",
   "version": "3.10.9"
  }
 },
 "nbformat": 4,
 "nbformat_minor": 5
}
