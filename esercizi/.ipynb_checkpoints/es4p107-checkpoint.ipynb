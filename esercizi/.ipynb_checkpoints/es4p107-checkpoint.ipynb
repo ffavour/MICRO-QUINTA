{
 "cells": [
  {
   "cell_type": "markdown",
   "id": "4b3a0aea",
   "metadata": {},
   "source": [
    "#### es4 p107\n",
    "Considera 1000 classi da 25 alunni ciascuna. Per ognuna di esse simula il giorno di nascita di ciascun alunno estraendo un numero a caso tra 1 e 365 inclusi (i giorni dell'anno non bisestile sono 365). Calcola in quante delle mille classi ci sono almeno due alunni nati lo stesso giorno."
   ]
  },
  {
   "cell_type": "code",
   "execution_count": 1,
   "id": "4d040eb2",
   "metadata": {},
   "outputs": [],
   "source": [
    "import numpy as np"
   ]
  },
  {
   "cell_type": "code",
   "execution_count": 6,
   "id": "3f536da8",
   "metadata": {},
   "outputs": [
    {
     "data": {
      "text/plain": [
       "array([[266, 126,  16, ..., 178, 180,  55],\n",
       "       [ 78,  14, 244, ..., 217,  16,  19],\n",
       "       [119,  72, 345, ..., 345, 144, 135],\n",
       "       ...,\n",
       "       [ 28,  63, 327, ..., 252, 113, 196],\n",
       "       [ 91,  74, 170, ...,   3, 222, 122],\n",
       "       [147, 207, 186, ..., 263, 222,  72]])"
      ]
     },
     "execution_count": 6,
     "metadata": {},
     "output_type": "execute_result"
    }
   ],
   "source": [
    "classi = 1000\n",
    "alunni = 25\n",
    "np.random.seed(10)\n",
    "\n",
    "giorniNascita = np.random.randint(1, 366, (classi, alunni))\n",
    "giorniNascita"
   ]
  },
  {
   "cell_type": "code",
   "execution_count": 14,
   "id": "a3e15feb",
   "metadata": {},
   "outputs": [],
   "source": []
  },
  {
   "cell_type": "code",
   "execution_count": null,
   "id": "4022d22f",
   "metadata": {},
   "outputs": [],
   "source": []
  }
 ],
 "metadata": {
  "kernelspec": {
   "display_name": "Python 3 (ipykernel)",
   "language": "python",
   "name": "python3"
  },
  "language_info": {
   "codemirror_mode": {
    "name": "ipython",
    "version": 3
   },
   "file_extension": ".py",
   "mimetype": "text/x-python",
   "name": "python",
   "nbconvert_exporter": "python",
   "pygments_lexer": "ipython3",
   "version": "3.10.9"
  }
 },
 "nbformat": 4,
 "nbformat_minor": 5
}
