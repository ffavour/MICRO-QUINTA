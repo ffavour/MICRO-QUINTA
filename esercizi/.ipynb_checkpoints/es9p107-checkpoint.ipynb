{
 "cells": [
  {
   "cell_type": "markdown",
   "id": "eff4e4ce",
   "metadata": {},
   "source": [
    "#### es9 p107\n",
    "Due giocatori si affrontano in una partita a dadi: ogni volta che un giocatore ottiene un numero maggiore del suo rivale guadagna un punto, mentre se entrambi i giocatori ottengono lo stesso numero guadagnano mezzo punto ciascuno.\n",
    "> Simula una partita di 1000 lanci e registra i risultati di 10 partite.\n",
    "\n",
    "> Se un giocatore utilizzasse un dado truccato in cui il 5 e il 6 avessero una probabilità doppia di uscire rispetto agli altri numeri, potremmo riuscire a capirlo?"
   ]
  },
  {
   "cell_type": "code",
   "execution_count": 1,
   "id": "91b92259",
   "metadata": {},
   "outputs": [],
   "source": [
    "import numpy as np"
   ]
  },
  {
   "cell_type": "code",
   "execution_count": 5,
   "id": "8221766b",
   "metadata": {},
   "outputs": [],
   "source": [
    "partite = 10\n",
    "lanci = 1000\n",
    "\n",
    "giocatore1 = np.random.randint(1, 7, (partite, lanci))\n",
    "giocatore2 = np.random.randint(1, 7, (partite, lanci))"
   ]
  },
  {
   "cell_type": "code",
   "execution_count": 6,
   "id": "22ab6c48",
   "metadata": {},
   "outputs": [
    {
     "data": {
      "text/plain": [
       "array([[4, 6, 6, ..., 1, 3, 2],\n",
       "       [1, 3, 5, ..., 1, 2, 6],\n",
       "       [5, 4, 2, ..., 3, 6, 4],\n",
       "       ...,\n",
       "       [2, 4, 5, ..., 4, 5, 5],\n",
       "       [4, 2, 1, ..., 4, 3, 5],\n",
       "       [5, 4, 2, ..., 3, 4, 3]])"
      ]
     },
     "execution_count": 6,
     "metadata": {},
     "output_type": "execute_result"
    }
   ],
   "source": [
    "giocatore1"
   ]
  },
  {
   "cell_type": "code",
   "execution_count": 7,
   "id": "38c75b47",
   "metadata": {},
   "outputs": [
    {
     "data": {
      "text/plain": [
       "array([[5, 3, 3, ..., 4, 4, 4],\n",
       "       [6, 2, 2, ..., 1, 3, 4],\n",
       "       [2, 1, 4, ..., 2, 4, 1],\n",
       "       ...,\n",
       "       [3, 5, 3, ..., 1, 1, 4],\n",
       "       [2, 3, 2, ..., 4, 2, 6],\n",
       "       [5, 6, 5, ..., 1, 4, 2]])"
      ]
     },
     "execution_count": 7,
     "metadata": {},
     "output_type": "execute_result"
    }
   ],
   "source": [
    "giocatore2"
   ]
  },
  {
   "cell_type": "code",
   "execution_count": 9,
   "id": "44d0b51e",
   "metadata": {},
   "outputs": [
    {
     "data": {
      "text/plain": [
       "array([6, 6, 4, ..., 4, 3, 3])"
      ]
     },
     "execution_count": 9,
     "metadata": {},
     "output_type": "execute_result"
    }
   ],
   "source": [
    "giocatore1[giocatore1 > giocatore2]"
   ]
  },
  {
   "cell_type": "code",
   "execution_count": 10,
   "id": "3683ac11",
   "metadata": {},
   "outputs": [
    {
     "data": {
      "text/plain": [
       "array([5, 4, 4, ..., 2, 6, 6])"
      ]
     },
     "execution_count": 10,
     "metadata": {},
     "output_type": "execute_result"
    }
   ],
   "source": [
    "giocatore2[giocatore1 < giocatore2]"
   ]
  }
 ],
 "metadata": {
  "kernelspec": {
   "display_name": "Python 3 (ipykernel)",
   "language": "python",
   "name": "python3"
  },
  "language_info": {
   "codemirror_mode": {
    "name": "ipython",
    "version": 3
   },
   "file_extension": ".py",
   "mimetype": "text/x-python",
   "name": "python",
   "nbconvert_exporter": "python",
   "pygments_lexer": "ipython3",
   "version": "3.10.9"
  }
 },
 "nbformat": 4,
 "nbformat_minor": 5
}
