{
 "cells": [
  {
   "cell_type": "markdown",
   "id": "60256576",
   "metadata": {},
   "source": [
    "### Esercizio_1\n",
    "Dato n\n",
    "creare array 1D: [0, 1, 0, ...] tipo int"
   ]
  },
  {
   "cell_type": "code",
   "execution_count": 11,
   "id": "1ed6c634",
   "metadata": {},
   "outputs": [],
   "source": [
    "import numpy as np"
   ]
  },
  {
   "cell_type": "code",
   "execution_count": 12,
   "id": "3e849ab0",
   "metadata": {},
   "outputs": [
    {
     "data": {
      "text/plain": [
       "array([0, 1, 0, 1, 0, 1, 0, 1, 0, 1], dtype=int8)"
      ]
     },
     "execution_count": 12,
     "metadata": {},
     "output_type": "execute_result"
    }
   ],
   "source": [
    "n = 10\n",
    "array = np.zeros(n, dtype=np.int8)\n",
    "array[1::2] = 1\n",
    "array"
   ]
  },
  {
   "cell_type": "markdown",
   "id": "ddadadde",
   "metadata": {},
   "source": [
    "### Esercizio_2\n",
    "Fare una scacchiera"
   ]
  },
  {
   "cell_type": "code",
   "execution_count": 19,
   "id": "e46783ef",
   "metadata": {},
   "outputs": [
    {
     "data": {
      "text/plain": [
       "array([[0, 0, 0, 0, 0, 0, 0, 0, 0, 0],\n",
       "       [0, 0, 0, 0, 0, 0, 0, 0, 0, 0],\n",
       "       [0, 0, 0, 0, 0, 0, 0, 0, 0, 0],\n",
       "       [0, 0, 0, 0, 0, 0, 0, 0, 0, 0],\n",
       "       [0, 0, 0, 0, 0, 0, 0, 0, 0, 0],\n",
       "       [0, 0, 0, 0, 0, 0, 0, 0, 0, 0],\n",
       "       [0, 0, 0, 0, 0, 0, 0, 0, 0, 0],\n",
       "       [0, 0, 0, 0, 0, 0, 0, 0, 0, 0],\n",
       "       [0, 0, 0, 0, 0, 0, 0, 0, 0, 0],\n",
       "       [0, 0, 0, 0, 0, 0, 0, 0, 0, 0]], dtype=int8)"
      ]
     },
     "execution_count": 19,
     "metadata": {},
     "output_type": "execute_result"
    }
   ],
   "source": [
    "array2d = np.zeros((n, n), dtype=np.int8)\n",
    "array2d\n"
   ]
  },
  {
   "cell_type": "code",
   "execution_count": 21,
   "id": "6fbfa28a",
   "metadata": {},
   "outputs": [
    {
     "data": {
      "text/plain": [
       "array([[0, 1, 0, 1, 0, 1, 0, 1, 0, 1],\n",
       "       [1, 0, 1, 0, 1, 0, 1, 0, 1, 0],\n",
       "       [0, 1, 0, 1, 0, 1, 0, 1, 0, 1],\n",
       "       [1, 0, 1, 0, 1, 0, 1, 0, 1, 0],\n",
       "       [0, 1, 0, 1, 0, 1, 0, 1, 0, 1],\n",
       "       [1, 0, 1, 0, 1, 0, 1, 0, 1, 0],\n",
       "       [0, 1, 0, 1, 0, 1, 0, 1, 0, 1],\n",
       "       [1, 0, 1, 0, 1, 0, 1, 0, 1, 0],\n",
       "       [0, 1, 0, 1, 0, 1, 0, 1, 0, 1],\n",
       "       [1, 0, 1, 0, 1, 0, 1, 0, 1, 0]], dtype=int8)"
      ]
     },
     "execution_count": 21,
     "metadata": {},
     "output_type": "execute_result"
    }
   ],
   "source": [
    "array2d[::2, 1::2] = 1\n",
    "array2d[1::2, ::2] = 1\n",
    "array2d"
   ]
  },
  {
   "cell_type": "markdown",
   "id": "9d034383",
   "metadata": {},
   "source": [
    "### Esercizio_3\n",
    "Dato v = np.array([1, 2, 3, 1, -2, 4, 3, 1, 2])\n",
    "Trovare massimi e minimi locali e globali\n",
    "Usate np.roll"
   ]
  },
  {
   "cell_type": "code",
   "execution_count": 23,
   "id": "b11c5832",
   "metadata": {},
   "outputs": [
    {
     "data": {
      "text/plain": [
       "array([ 1,  2,  3,  1, -2,  4,  3,  1,  2])"
      ]
     },
     "execution_count": 23,
     "metadata": {},
     "output_type": "execute_result"
    }
   ],
   "source": [
    "v = np.array([1, 2, 3, 1, -2, 4, 3, 1, 2]) \n",
    "v"
   ]
  },
  {
   "cell_type": "code",
   "execution_count": 26,
   "id": "50e39efd",
   "metadata": {},
   "outputs": [
    {
     "data": {
      "text/plain": [
       "(4, -2)"
      ]
     },
     "execution_count": 26,
     "metadata": {},
     "output_type": "execute_result"
    }
   ],
   "source": [
    "massimo_globale = np.max(v) \n",
    "minimo_globale = np.min(v)\n",
    "massimo_globale, minimo_globale"
   ]
  },
  {
   "cell_type": "code",
   "execution_count": 29,
   "id": "8d931628",
   "metadata": {},
   "outputs": [],
   "source": [
    "arrayDx = np.roll(v, 1)"
   ]
  },
  {
   "cell_type": "code",
   "execution_count": 30,
   "id": "f6697ad1",
   "metadata": {},
   "outputs": [],
   "source": [
    "arraySx = np.roll(v, -1)"
   ]
  },
  {
   "cell_type": "code",
   "execution_count": 36,
   "id": "eaf1543e",
   "metadata": {},
   "outputs": [
    {
     "data": {
      "text/plain": [
       "array([3, 4, 2])"
      ]
     },
     "execution_count": 36,
     "metadata": {},
     "output_type": "execute_result"
    }
   ],
   "source": [
    "v[(v > arraySx) & (v > arrayDx)]"
   ]
  },
  {
   "cell_type": "code",
   "execution_count": null,
   "id": "42c7e717",
   "metadata": {},
   "outputs": [],
   "source": []
  }
 ],
 "metadata": {
  "kernelspec": {
   "display_name": "Python 3 (ipykernel)",
   "language": "python",
   "name": "python3"
  },
  "language_info": {
   "codemirror_mode": {
    "name": "ipython",
    "version": 3
   },
   "file_extension": ".py",
   "mimetype": "text/x-python",
   "name": "python",
   "nbconvert_exporter": "python",
   "pygments_lexer": "ipython3",
   "version": "3.10.9"
  }
 },
 "nbformat": 4,
 "nbformat_minor": 5
}
