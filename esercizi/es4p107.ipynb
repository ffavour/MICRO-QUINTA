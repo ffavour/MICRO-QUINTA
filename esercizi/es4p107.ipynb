{
 "cells": [
  {
   "cell_type": "markdown",
   "id": "4b3a0aea",
   "metadata": {},
   "source": [
    "#### es4 p107\n",
    "Considera 1000 classi da 25 alunni ciascuna. Per ognuna di esse simula il giorno di nascita di ciascun alunno estraendo un numero a caso tra 1 e 365 inclusi (i giorni dell'anno non bisestile sono 365). Calcola in quante delle mille classi ci sono almeno due alunni nati lo stesso giorno."
   ]
  },
  {
   "cell_type": "code",
   "execution_count": 7,
   "id": "4d040eb2",
   "metadata": {},
   "outputs": [],
   "source": [
    "import numpy as np"
   ]
  },
  {
   "cell_type": "code",
   "execution_count": 8,
   "id": "3f536da8",
   "metadata": {},
   "outputs": [
    {
     "data": {
      "text/plain": [
       "array([[266, 126,  16, ..., 178, 180,  55],\n",
       "       [ 78,  14, 244, ..., 217,  16,  19],\n",
       "       [119,  72, 345, ..., 345, 144, 135],\n",
       "       ...,\n",
       "       [ 28,  63, 327, ..., 252, 113, 196],\n",
       "       [ 91,  74, 170, ...,   3, 222, 122],\n",
       "       [147, 207, 186, ..., 263, 222,  72]])"
      ]
     },
     "execution_count": 8,
     "metadata": {},
     "output_type": "execute_result"
    }
   ],
   "source": [
    "classi = 1000\n",
    "alunni = 25\n",
    "np.random.seed(10)\n",
    "\n",
    "compleanni = np.random.randint(1, 366, (classi, alunni))\n",
    "compleanni"
   ]
  },
  {
   "cell_type": "code",
   "execution_count": 27,
   "id": "a3e15feb",
   "metadata": {},
   "outputs": [
    {
     "data": {
      "text/plain": [
       "array([[  9,  16,  17, ..., 357, 357, 364],\n",
       "       [159, 244,  32, ...,  75, 314,  94],\n",
       "       [290, 345, 134, ..., 272,   5, 307],\n",
       "       ...,\n",
       "       [239, 327, 231, ..., 223, 123, 302],\n",
       "       [290, 170, 250, ...,  26, 271, 122],\n",
       "       [ 60, 186, 364, ..., 136, 317,  74]])"
      ]
     },
     "execution_count": 27,
     "metadata": {},
     "output_type": "execute_result"
    }
   ],
   "source": [
    "np.unique(compleanni, axis=1)"
   ]
  },
  {
   "cell_type": "code",
   "execution_count": 11,
   "id": "4022d22f",
   "metadata": {},
   "outputs": [],
   "source": [
    "np.count_nonzero?"
   ]
  },
  {
   "cell_type": "code",
   "execution_count": 17,
   "id": "f1349afa",
   "metadata": {},
   "outputs": [],
   "source": [
    "np.unique?"
   ]
  },
  {
   "cell_type": "code",
   "execution_count": 21,
   "id": "5dcaf175",
   "metadata": {},
   "outputs": [
    {
     "data": {
      "text/plain": [
       "array([[1, 2, 4, 4],\n",
       "       [1, 4, 6, 6]])"
      ]
     },
     "execution_count": 21,
     "metadata": {},
     "output_type": "execute_result"
    }
   ],
   "source": [
    "a = np.array(([1, 2, 4, 4], [1, 4, 6, 6]))\n",
    "a"
   ]
  },
  {
   "cell_type": "code",
   "execution_count": 24,
   "id": "0b393417",
   "metadata": {},
   "outputs": [
    {
     "data": {
      "text/plain": [
       "(array([[1, 2, 4, 4],\n",
       "        [1, 4, 6, 6]]),\n",
       " array([1, 1], dtype=int64))"
      ]
     },
     "execution_count": 24,
     "metadata": {},
     "output_type": "execute_result"
    }
   ],
   "source": [
    "np.unique(a, return_counts=True, axis=0)"
   ]
  },
  {
   "cell_type": "code",
   "execution_count": 28,
   "id": "7bbac9d9",
   "metadata": {},
   "outputs": [
    {
     "data": {
      "text/plain": [
       "array([[1, 2, 4],\n",
       "       [1, 4, 6]])"
      ]
     },
     "execution_count": 28,
     "metadata": {},
     "output_type": "execute_result"
    }
   ],
   "source": [
    "unici = np.unique(a, axis=1)\n",
    "unici"
   ]
  },
  {
   "cell_type": "code",
   "execution_count": null,
   "id": "8c6a66e1",
   "metadata": {},
   "outputs": [],
   "source": []
  },
  {
   "cell_type": "code",
   "execution_count": null,
   "id": "7e385ad8",
   "metadata": {},
   "outputs": [],
   "source": []
  }
 ],
 "metadata": {
  "kernelspec": {
   "display_name": "Python 3 (ipykernel)",
   "language": "python",
   "name": "python3"
  },
  "language_info": {
   "codemirror_mode": {
    "name": "ipython",
    "version": 3
   },
   "file_extension": ".py",
   "mimetype": "text/x-python",
   "name": "python",
   "nbconvert_exporter": "python",
   "pygments_lexer": "ipython3",
   "version": "3.10.9"
  }
 },
 "nbformat": 4,
 "nbformat_minor": 5
}
