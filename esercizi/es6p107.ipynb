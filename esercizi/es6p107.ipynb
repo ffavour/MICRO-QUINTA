{
 "cells": [
  {
   "cell_type": "markdown",
   "id": "2237bd20",
   "metadata": {},
   "source": [
    "#### es6 p107\n",
    "Considera un array monodimensionale di numeri interi compresi tra 0 e 9, generato casualmente, e trova le posizioni dell'array in cui compare la sequenza di numeri [1, 2, 3]"
   ]
  },
  {
   "cell_type": "code",
   "execution_count": 14,
   "id": "7392b109",
   "metadata": {},
   "outputs": [],
   "source": [
    "import numpy as np"
   ]
  },
  {
   "cell_type": "code",
   "execution_count": 15,
   "id": "59c59fe2",
   "metadata": {},
   "outputs": [
    {
     "data": {
      "text/plain": [
       "array([3, 1, 7, 0, 2, 6, 2, 0, 4, 6])"
      ]
     },
     "execution_count": 15,
     "metadata": {},
     "output_type": "execute_result"
    }
   ],
   "source": [
    "sequenza = np.array([1, 2, 3])\n",
    "array = np.random.randint(0, 10, 10)\n",
    "array"
   ]
  },
  {
   "cell_type": "code",
   "execution_count": 16,
   "id": "a306765f",
   "metadata": {},
   "outputs": [
    {
     "data": {
      "text/plain": [
       "3"
      ]
     },
     "execution_count": 16,
     "metadata": {},
     "output_type": "execute_result"
    }
   ],
   "source": [
    "posSequenza = np.count_nonzero(sequenza)\n",
    "posSequenza"
   ]
  },
  {
   "cell_type": "code",
   "execution_count": null,
   "id": "0e8a43a1",
   "metadata": {},
   "outputs": [],
   "source": []
  }
 ],
 "metadata": {
  "kernelspec": {
   "display_name": "Python 3 (ipykernel)",
   "language": "python",
   "name": "python3"
  },
  "language_info": {
   "codemirror_mode": {
    "name": "ipython",
    "version": 3
   },
   "file_extension": ".py",
   "mimetype": "text/x-python",
   "name": "python",
   "nbconvert_exporter": "python",
   "pygments_lexer": "ipython3",
   "version": "3.10.9"
  }
 },
 "nbformat": 4,
 "nbformat_minor": 5
}
