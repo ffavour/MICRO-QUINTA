{
 "cells": [
  {
   "cell_type": "markdown",
   "id": "eff4e4ce",
   "metadata": {},
   "source": [
    "#### es9 p107\n",
    "Due giocatori si affrontano in una partita a dadi: ogni volta che un giocatore ottiene un numero maggiore del suo rivale guadagna un punto, mentre se entrambi i giocatori ottengono lo stesso numero guadagnano mezzo punto ciascuno.\n",
    "> Simula una partita di 1000 lanci e registra i risultati di 10 partite.\n",
    "\n",
    "> Se un giocatore utilizzasse un dado truccato in cui il 5 e il 6 avessero una probabilità doppia di uscire rispetto agli altri numeri, potremmo riuscire a capirlo?"
   ]
  },
  {
   "cell_type": "code",
   "execution_count": 2,
   "id": "91b92259",
   "metadata": {},
   "outputs": [],
   "source": [
    "import numpy as np"
   ]
  },
  {
   "cell_type": "code",
   "execution_count": 3,
   "id": "8221766b",
   "metadata": {},
   "outputs": [],
   "source": [
    "partite = 10\n",
    "lanci = 1000\n",
    "\n",
    "giocatore1 = np.random.randint(1, 7, (partite, lanci))\n",
    "giocatore2 = np.random.randint(1, 7, (partite, lanci))"
   ]
  },
  {
   "cell_type": "code",
   "execution_count": 4,
   "id": "22ab6c48",
   "metadata": {},
   "outputs": [
    {
     "data": {
      "text/plain": [
       "array([[6, 3, 6, ..., 4, 4, 2],\n",
       "       [1, 6, 6, ..., 6, 5, 6],\n",
       "       [6, 3, 6, ..., 3, 1, 4],\n",
       "       ...,\n",
       "       [3, 4, 2, ..., 2, 5, 6],\n",
       "       [4, 6, 3, ..., 4, 6, 3],\n",
       "       [2, 3, 3, ..., 6, 3, 4]])"
      ]
     },
     "execution_count": 4,
     "metadata": {},
     "output_type": "execute_result"
    }
   ],
   "source": [
    "giocatore1"
   ]
  },
  {
   "cell_type": "code",
   "execution_count": 5,
   "id": "38c75b47",
   "metadata": {},
   "outputs": [
    {
     "data": {
      "text/plain": [
       "array([[3, 4, 6, ..., 3, 4, 2],\n",
       "       [2, 4, 1, ..., 4, 5, 1],\n",
       "       [5, 4, 5, ..., 6, 4, 5],\n",
       "       ...,\n",
       "       [2, 4, 1, ..., 3, 3, 6],\n",
       "       [1, 4, 6, ..., 5, 4, 1],\n",
       "       [4, 2, 2, ..., 3, 5, 4]])"
      ]
     },
     "execution_count": 5,
     "metadata": {},
     "output_type": "execute_result"
    }
   ],
   "source": [
    "giocatore2"
   ]
  },
  {
   "cell_type": "code",
   "execution_count": 6,
   "id": "44d0b51e",
   "metadata": {},
   "outputs": [
    {
     "data": {
      "text/plain": [
       "array([6, 3, 6, ..., 6, 4, 6])"
      ]
     },
     "execution_count": 6,
     "metadata": {},
     "output_type": "execute_result"
    }
   ],
   "source": [
    "giocatore1[giocatore1 > giocatore2]"
   ]
  },
  {
   "cell_type": "code",
   "execution_count": 7,
   "id": "3683ac11",
   "metadata": {},
   "outputs": [
    {
     "data": {
      "text/plain": [
       "array([4, 5, 5, ..., 6, 4, 5])"
      ]
     },
     "execution_count": 7,
     "metadata": {},
     "output_type": "execute_result"
    }
   ],
   "source": [
    "giocatore2[giocatore1 < giocatore2]"
   ]
  },
  {
   "cell_type": "code",
   "execution_count": null,
   "id": "8701f7a8",
   "metadata": {},
   "outputs": [],
   "source": []
  }
 ],
 "metadata": {
  "kernelspec": {
   "display_name": "Python 3 (ipykernel)",
   "language": "python",
   "name": "python3"
  },
  "language_info": {
   "codemirror_mode": {
    "name": "ipython",
    "version": 3
   },
   "file_extension": ".py",
   "mimetype": "text/x-python",
   "name": "python",
   "nbconvert_exporter": "python",
   "pygments_lexer": "ipython3",
   "version": "3.10.9"
  }
 },
 "nbformat": 4,
 "nbformat_minor": 5
}
