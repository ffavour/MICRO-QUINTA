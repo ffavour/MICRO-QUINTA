{
 "cells": [
  {
   "cell_type": "code",
   "execution_count": 2,
   "id": "1c97c0ea",
   "metadata": {},
   "outputs": [],
   "source": [
    "import numpy as np"
   ]
  },
  {
   "cell_type": "markdown",
   "id": "33e3a2b0",
   "metadata": {},
   "source": [
    "### Esercizio 1\n",
    "Nel file `covid-19_gen1.txt` è presente l'RNA di un virus SARS-COV-2. L'RNA è una sequenza in cui si alternano 4 simboli (detti nucleotidi): A, T, C, G.\n",
    "L'RNA del  virus SARS-COV-2 contiene 29903 nucleotidi. Leggi il file e crea un array di Numpy contenente i 29903 elementi, uno per ogni nucleotide secondo l'ordine contenuto nel file.\n",
    "\n",
    "Utilizza Numpy per:\n",
    "1. calcolare la frequenza assoluta di ogni nucleotide;\n",
    "2. calcolare la frequenza assoluta della sequenza A,T,G;\n",
    "4. sapendo che la sequenza A,T,G,T,T,T,G,T,T,T,T,T sta all'inzio del segmento di RNA che codifica la proteina spike, individuare se la proteina spike è presente nell'RNA: in caso affermativo ottenere la posizione iniziale della proteina spike all'interno dell'array. *SUGGERIMENTO*: a partire dall'array di 29903 elementi costruisci la matrice contenente tutte le possibili sequenze di 12 nucleotidi contenute nell'array iniziale."
   ]
  },
  {
   "cell_type": "code",
   "execution_count": 2,
   "id": "45819b47",
   "metadata": {},
   "outputs": [],
   "source": [
    "import numpy as np"
   ]
  },
  {
   "cell_type": "code",
   "execution_count": 3,
   "id": "17b891f5",
   "metadata": {},
   "outputs": [],
   "source": [
    "def rimuoviLinebreak(testo):\n",
    "    punteggiatura = '\\n'\n",
    "    \n",
    "    testoPulito = ''.join(carattere for carattere in testo if carattere not in punteggiatura)\n",
    "    return testoPulito.upper()"
   ]
  },
  {
   "cell_type": "code",
   "execution_count": 4,
   "id": "8d39727c",
   "metadata": {},
   "outputs": [
    {
     "data": {
      "text/plain": [
       "array(['A', 'T', 'T', ..., 'A', 'A', 'A'], dtype='<U1')"
      ]
     },
     "execution_count": 4,
     "metadata": {},
     "output_type": "execute_result"
    }
   ],
   "source": [
    "file = open(\"covid-19_gen1.txt\", \"r\")  \n",
    "lista_righe = file.read() \n",
    "file.close()\n",
    "\n",
    "righe_no_linebreak = rimuoviLinebreak(str(lista_righe))\n",
    "\n",
    "arrayNucleotidi = np.array(list(righe_no_linebreak))\n",
    "arrayNucleotidi"
   ]
  },
  {
   "cell_type": "markdown",
   "id": "1112e5f1",
   "metadata": {},
   "source": [
    "##### 1. calcolare la frequenza assoluta di ogni nucleotide;"
   ]
  },
  {
   "cell_type": "code",
   "execution_count": 5,
   "id": "d4d428a2",
   "metadata": {},
   "outputs": [
    {
     "data": {
      "text/plain": [
       "8954"
      ]
     },
     "execution_count": 5,
     "metadata": {},
     "output_type": "execute_result"
    }
   ],
   "source": [
    "frequenzaAssoluta_A = np.count_nonzero(arrayNucleotidi == 'A')\n",
    "frequenzaAssoluta_A"
   ]
  },
  {
   "cell_type": "code",
   "execution_count": 6,
   "id": "b4401c06",
   "metadata": {},
   "outputs": [
    {
     "data": {
      "text/plain": [
       "9594"
      ]
     },
     "execution_count": 6,
     "metadata": {},
     "output_type": "execute_result"
    }
   ],
   "source": [
    "frequenzaAssoluta_T = np.count_nonzero(arrayNucleotidi == 'T')\n",
    "frequenzaAssoluta_T"
   ]
  },
  {
   "cell_type": "code",
   "execution_count": 7,
   "id": "6d114acd",
   "metadata": {},
   "outputs": [
    {
     "data": {
      "text/plain": [
       "5863"
      ]
     },
     "execution_count": 7,
     "metadata": {},
     "output_type": "execute_result"
    }
   ],
   "source": [
    "frequenzaAssoluta_G = np.count_nonzero(arrayNucleotidi == 'G')\n",
    "frequenzaAssoluta_G"
   ]
  },
  {
   "cell_type": "code",
   "execution_count": 8,
   "id": "8b406dff",
   "metadata": {},
   "outputs": [
    {
     "data": {
      "text/plain": [
       "5492"
      ]
     },
     "execution_count": 8,
     "metadata": {},
     "output_type": "execute_result"
    }
   ],
   "source": [
    "frequenzaAssoluta_C = np.count_nonzero(arrayNucleotidi == 'C')\n",
    "frequenzaAssoluta_C"
   ]
  },
  {
   "cell_type": "markdown",
   "id": "14c6b9fa",
   "metadata": {},
   "source": [
    "##### 2. calcolare la frequenza assoluta della sequenza A,T,G;"
   ]
  },
  {
   "cell_type": "code",
   "execution_count": 9,
   "id": "606bdf47",
   "metadata": {},
   "outputs": [],
   "source": [
    "s1 = np.roll(arrayNucleotidi, -1)\n",
    "s2 = np.roll(arrayNucleotidi,-2)"
   ]
  },
  {
   "cell_type": "code",
   "execution_count": 10,
   "id": "69cdd590",
   "metadata": {},
   "outputs": [
    {
     "name": "stdout",
     "output_type": "stream",
     "text": [
      "['A' 'T' 'T' ... 'A' 'A' 'A']\n",
      "['T' 'T' 'A' ... 'A' 'A' 'A']\n",
      "['T' 'A' 'A' ... 'A' 'A' 'T']\n"
     ]
    }
   ],
   "source": [
    "print(arrayNucleotidi)\n",
    "print(s1)\n",
    "print(s2)"
   ]
  },
  {
   "cell_type": "code",
   "execution_count": 11,
   "id": "1fbc0197",
   "metadata": {},
   "outputs": [
    {
     "data": {
      "text/plain": [
       "array([False, False, False, ..., False, False, False])"
      ]
     },
     "execution_count": 11,
     "metadata": {},
     "output_type": "execute_result"
    }
   ],
   "source": [
    "seq = ((arrayNucleotidi == \"A\") & (s1 == \"T\") & (s2 == \"G\"))\n",
    "seq"
   ]
  },
  {
   "cell_type": "code",
   "execution_count": 12,
   "id": "beb83e89",
   "metadata": {},
   "outputs": [
    {
     "data": {
      "text/plain": [
       "725"
      ]
     },
     "execution_count": 12,
     "metadata": {},
     "output_type": "execute_result"
    }
   ],
   "source": [
    "frequenzaAssolutaATG = np.count_nonzero(seq == True)\n",
    "frequenzaAssolutaATG"
   ]
  },
  {
   "cell_type": "markdown",
   "id": "486d97d6",
   "metadata": {},
   "source": [
    "##### 3. sapendo che la sequenza A,T,G,T,T,T,G,T,T,T,T,T sta all'inzio del segmento di RNA che codifica la proteina spike, individuare se la proteina spike è presente nell'RNA: in caso affermativo ottenere la posizione iniziale della proteina spike all'interno dell'array. SUGGERIMENTO: a partire dall'array di 29903 elementi costruisci la matrice contenente tutte le possibili sequenze di 12 nucleotidi contenute nell'array iniziale."
   ]
  },
  {
   "cell_type": "code",
   "execution_count": 17,
   "id": "222e53b4",
   "metadata": {},
   "outputs": [],
   "source": [
    "proteinaSpike = np.array(['A', 'T', 'G', 'T', 'T', 'T', 'G', 'T', 'T', 'T', 'T', 'T'])\n"
   ]
  },
  {
   "cell_type": "code",
   "execution_count": 19,
   "id": "8705a002",
   "metadata": {
    "scrolled": true
   },
   "outputs": [
    {
     "ename": "ValueError",
     "evalue": "cannot reshape array of size 29903 into shape (12)",
     "output_type": "error",
     "traceback": [
      "\u001b[1;31m---------------------------------------------------------------------------\u001b[0m",
      "\u001b[1;31mValueError\u001b[0m                                Traceback (most recent call last)",
      "Cell \u001b[1;32mIn[19], line 1\u001b[0m\n\u001b[1;32m----> 1\u001b[0m matriceCombinazioni \u001b[38;5;241m=\u001b[39m \u001b[43marrayNucleotidi\u001b[49m\u001b[38;5;241;43m.\u001b[39;49m\u001b[43mreshape\u001b[49m\u001b[43m(\u001b[49m\u001b[43m(\u001b[49m\u001b[38;5;241;43m-\u001b[39;49m\u001b[38;5;241;43m1\u001b[39;49m\u001b[43m,\u001b[49m\u001b[43m \u001b[49m\u001b[38;5;241;43m12\u001b[39;49m\u001b[43m)\u001b[49m\u001b[43m)\u001b[49m\n\u001b[0;32m      2\u001b[0m matriceCombinazioni\n",
      "\u001b[1;31mValueError\u001b[0m: cannot reshape array of size 29903 into shape (12)"
     ]
    }
   ],
   "source": [
    "matriceCombinazioni = arrayNucleotidi.reshape((12, -1))\n",
    "matriceCombinazioni"
   ]
  },
  {
   "cell_type": "code",
   "execution_count": null,
   "id": "704628a8",
   "metadata": {},
   "outputs": [],
   "source": []
  },
  {
   "cell_type": "code",
   "execution_count": null,
   "id": "719fb14d",
   "metadata": {},
   "outputs": [],
   "source": [
    "l"
   ]
  }
 ],
 "metadata": {
  "kernelspec": {
   "display_name": "Python 3 (ipykernel)",
   "language": "python",
   "name": "python3"
  },
  "language_info": {
   "codemirror_mode": {
    "name": "ipython",
    "version": 3
   },
   "file_extension": ".py",
   "mimetype": "text/x-python",
   "name": "python",
   "nbconvert_exporter": "python",
   "pygments_lexer": "ipython3",
   "version": "3.10.9"
  }
 },
 "nbformat": 4,
 "nbformat_minor": 5
}
