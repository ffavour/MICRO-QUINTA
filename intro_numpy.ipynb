{
 "cells": [
  {
   "cell_type": "code",
   "execution_count": 2,
   "id": "93ac1109",
   "metadata": {},
   "outputs": [],
   "source": [
    "import numpy as np"
   ]
  },
  {
   "cell_type": "code",
   "execution_count": 2,
   "id": "cbab6e4e",
   "metadata": {
    "scrolled": true
   },
   "outputs": [
    {
     "name": "stdout",
     "output_type": "stream",
     "text": [
      "723 ms ± 12.5 ms per loop (mean ± std. dev. of 7 runs, 1 loop each)\n"
     ]
    }
   ],
   "source": [
    "%%timeit\n",
    "quadrati = []\n",
    "for i in range(1000000):\n",
    "    quadrati.append(i**2)"
   ]
  },
  {
   "cell_type": "code",
   "execution_count": 3,
   "id": "e0bc69eb",
   "metadata": {},
   "outputs": [
    {
     "ename": "NameError",
     "evalue": "name 'quadrati' is not defined",
     "output_type": "error",
     "traceback": [
      "\u001b[1;31m---------------------------------------------------------------------------\u001b[0m",
      "\u001b[1;31mNameError\u001b[0m                                 Traceback (most recent call last)",
      "Cell \u001b[1;32mIn[3], line 1\u001b[0m\n\u001b[1;32m----> 1\u001b[0m \u001b[43mquadrati\u001b[49m\n",
      "\u001b[1;31mNameError\u001b[0m: name 'quadrati' is not defined"
     ]
    }
   ],
   "source": [
    "quadrati"
   ]
  },
  {
   "cell_type": "code",
   "execution_count": null,
   "id": "cdba8e56",
   "metadata": {},
   "outputs": [],
   "source": [
    "%%timeit\n",
    "quadrati = np.arange(0, 1000000)**2\n"
   ]
  },
  {
   "cell_type": "code",
   "execution_count": null,
   "id": "db49bbf7",
   "metadata": {},
   "outputs": [],
   "source": [
    "quadrati"
   ]
  },
  {
   "cell_type": "markdown",
   "id": "442e4202",
   "metadata": {},
   "source": [
    "### Creare gli array unidimensionali"
   ]
  },
  {
   "cell_type": "code",
   "execution_count": null,
   "id": "bbcfb7a6",
   "metadata": {},
   "outputs": [],
   "source": [
    "array_di_zeri = np.zeros(10)\n",
    "array_di_zeri"
   ]
  },
  {
   "cell_type": "code",
   "execution_count": null,
   "id": "ff838d09",
   "metadata": {},
   "outputs": [],
   "source": [
    "array_di_zeri.dtype"
   ]
  },
  {
   "cell_type": "code",
   "execution_count": null,
   "id": "f2784e5d",
   "metadata": {},
   "outputs": [],
   "source": [
    "array_di_zeri_int = np.zeros(10, dtype=np.int8)\n",
    "array_di_zeri_int"
   ]
  },
  {
   "cell_type": "code",
   "execution_count": null,
   "id": "7b612cbe",
   "metadata": {},
   "outputs": [],
   "source": [
    "array_di_uni = np.ones(10)\n",
    "array_di_uni"
   ]
  },
  {
   "cell_type": "code",
   "execution_count": null,
   "id": "68feb987",
   "metadata": {},
   "outputs": [],
   "source": [
    "array_di_cinque = np.ones(10)*5  ##di chiama broadcast\n",
    "array_di_cinque"
   ]
  },
  {
   "cell_type": "code",
   "execution_count": null,
   "id": "64910184",
   "metadata": {},
   "outputs": [],
   "source": [
    "lista = [1, 2, 3, 4, 5, 1000]\n",
    "array_da_lista_numeri = np.array(lista)\n",
    "array_da_lista_numeri #array di numeri"
   ]
  },
  {
   "cell_type": "code",
   "execution_count": null,
   "id": "53fe1fb5",
   "metadata": {},
   "outputs": [],
   "source": [
    "lista = [1, 2, 3, 4, 5, 1000, \"c\"]\n",
    "array_da_lista_numeri = np.array(lista)\n",
    "array_da_lista_numeri #array di stringhe"
   ]
  },
  {
   "cell_type": "code",
   "execution_count": null,
   "id": "fe2a1538",
   "metadata": {},
   "outputs": [],
   "source": [
    "np.random.uniform(3, 5) #float a caso"
   ]
  },
  {
   "cell_type": "code",
   "execution_count": null,
   "id": "db6abc15",
   "metadata": {},
   "outputs": [],
   "source": [
    "float_casuali = np.random.uniform(3, 5, 10) #array di float casuali"
   ]
  },
  {
   "cell_type": "code",
   "execution_count": null,
   "id": "50e72a5d",
   "metadata": {},
   "outputs": [],
   "source": [
    "int_casuali = np.random.randint(1, 7, 10) #10 numeri interi tra 1(incluso) e 7(escluso)\n",
    "int_casuali"
   ]
  },
  {
   "cell_type": "code",
   "execution_count": null,
   "id": "2eeb5e6a",
   "metadata": {},
   "outputs": [],
   "source": [
    "alice = np.random.randint(1, 7, 10)\n",
    "bob = np.random.randint(1, 7, 10)"
   ]
  },
  {
   "cell_type": "code",
   "execution_count": null,
   "id": "755daaf1",
   "metadata": {},
   "outputs": [],
   "source": [
    "print(f\"lanci del dado di alice: {alice}\")\n",
    "print(f\"lanci del dado di alice: {bob}\")"
   ]
  },
  {
   "cell_type": "code",
   "execution_count": null,
   "id": "7a4ae008",
   "metadata": {},
   "outputs": [],
   "source": [
    "alice > bob"
   ]
  },
  {
   "cell_type": "code",
   "execution_count": null,
   "id": "2baf2c97",
   "metadata": {},
   "outputs": [],
   "source": [
    "print(f\"alice batte bob {np.count_nonzero(alice > bob)} volte\")"
   ]
  },
  {
   "cell_type": "code",
   "execution_count": null,
   "id": "fef9098a",
   "metadata": {},
   "outputs": [],
   "source": [
    "vittorie_alice = alice > bob #alice > bob e un array di bool\n",
    "vittorie_alice.dtype"
   ]
  },
  {
   "cell_type": "code",
   "execution_count": null,
   "id": "dafd8d8e",
   "metadata": {},
   "outputs": [],
   "source": [
    "array_di_interi = np.arange(4, 10)\n",
    "array_di_interi"
   ]
  },
  {
   "cell_type": "code",
   "execution_count": null,
   "id": "14cff70d",
   "metadata": {},
   "outputs": [],
   "source": [
    "quadrati = np.arange(1, 11)**2\n",
    "quadrati"
   ]
  },
  {
   "cell_type": "code",
   "execution_count": null,
   "id": "407f11d6",
   "metadata": {},
   "outputs": [],
   "source": [
    "array1 = np.arange(1, 5)\n",
    "array1"
   ]
  },
  {
   "cell_type": "code",
   "execution_count": null,
   "id": "ef9a2ea4",
   "metadata": {},
   "outputs": [],
   "source": [
    "array2 = np.ones(4)\n",
    "array2"
   ]
  },
  {
   "cell_type": "code",
   "execution_count": null,
   "id": "46aa3eae",
   "metadata": {},
   "outputs": [],
   "source": [
    "array1.dtype"
   ]
  },
  {
   "cell_type": "code",
   "execution_count": null,
   "id": "30f367b1",
   "metadata": {},
   "outputs": [],
   "source": [
    "array2.dtype"
   ]
  },
  {
   "cell_type": "code",
   "execution_count": null,
   "id": "29d02345",
   "metadata": {},
   "outputs": [],
   "source": [
    "somma = array1 + array2\n",
    "somma"
   ]
  },
  {
   "cell_type": "code",
   "execution_count": null,
   "id": "eac77478",
   "metadata": {},
   "outputs": [],
   "source": [
    "somma.dtype"
   ]
  },
  {
   "cell_type": "markdown",
   "id": "8c0c0b3d",
   "metadata": {},
   "source": [
    "### Creazione array 1D\n",
    "\n",
    "array di zeri:\n",
    "\n",
    "    np. zeros()\n",
    "\n",
    "array di uni:\n",
    "\n",
    "    np.ones()\n",
    "\n",
    "array da liste:\n",
    "\n",
    "    np.array()\n",
    "    \n",
    "array d interi crescenti:\n",
    "\n",
    "    np. arange\n",
    "\n",
    "array pseudocasuali:\n",
    "\n",
    "    np.random.randint\n",
    "    np.random.uniform"
   ]
  },
  {
   "cell_type": "markdown",
   "id": "48af976c",
   "metadata": {},
   "source": [
    "### Array pseudocasuali"
   ]
  },
  {
   "cell_type": "code",
   "execution_count": 4,
   "id": "3919bb5e",
   "metadata": {},
   "outputs": [
    {
     "data": {
      "text/plain": [
       "array([1, 1, 2, 2, 1, 1, 1, 2, 2, 1])"
      ]
     },
     "execution_count": 4,
     "metadata": {},
     "output_type": "execute_result"
    }
   ],
   "source": [
    "np. random.randint(1, 3, 10)"
   ]
  },
  {
   "cell_type": "code",
   "execution_count": 5,
   "id": "d02b7716",
   "metadata": {},
   "outputs": [
    {
     "data": {
      "text/plain": [
       "array([0.92779233, 0.63279723, 0.11103343, 0.58837336, 0.74647099,\n",
       "       0.08153843, 0.08501717, 0.55658757, 0.01287538, 0.60261686])"
      ]
     },
     "execution_count": 5,
     "metadata": {},
     "output_type": "execute_result"
    }
   ],
   "source": [
    "np.random.uniform(0, 1, 10)"
   ]
  },
  {
   "cell_type": "code",
   "execution_count": 8,
   "id": "e55d6954",
   "metadata": {},
   "outputs": [
    {
     "data": {
      "text/plain": [
       "array([178.62379479, 162.91770711, 185.8514077 , 187.73600131,\n",
       "       185.32498656, 180.96046156, 169.46519696, 180.81925573,\n",
       "       170.13424165, 160.73898955])"
      ]
     },
     "execution_count": 8,
     "metadata": {},
     "output_type": "execute_result"
    }
   ],
   "source": [
    "np.random.normal(175, 12, 10)  #sorteggia flot secondo dev. standard"
   ]
  },
  {
   "cell_type": "code",
   "execution_count": 24,
   "id": "a574a1b6",
   "metadata": {},
   "outputs": [
    {
     "data": {
      "text/plain": [
       "array([177.17086804, 174.7539795 , 176.19485963, ..., 174.60392828,\n",
       "       175.54352834, 174.81425087])"
      ]
     },
     "execution_count": 24,
     "metadata": {},
     "output_type": "execute_result"
    }
   ],
   "source": [
    "altezze = np.random.normal(175, 2, 10000)\n",
    "altezze"
   ]
  },
  {
   "cell_type": "code",
   "execution_count": 25,
   "id": "40ee3740",
   "metadata": {},
   "outputs": [
    {
     "data": {
      "text/plain": [
       "174.9935397034083"
      ]
     },
     "execution_count": 25,
     "metadata": {},
     "output_type": "execute_result"
    }
   ],
   "source": [
    "np.mean(altezze)"
   ]
  },
  {
   "cell_type": "code",
   "execution_count": 26,
   "id": "03bc5699",
   "metadata": {},
   "outputs": [
    {
     "data": {
      "text/plain": [
       "1.9913118614622298"
      ]
     },
     "execution_count": 26,
     "metadata": {},
     "output_type": "execute_result"
    }
   ],
   "source": [
    "np.std(altezze)"
   ]
  },
  {
   "cell_type": "markdown",
   "id": "fc9804f6",
   "metadata": {},
   "source": [
    "## Indicizzazione per booleani\n",
    "#### Una delle funzioni più potenti di numpy"
   ]
  },
  {
   "cell_type": "code",
   "execution_count": 28,
   "id": "48f1fed0",
   "metadata": {},
   "outputs": [
    {
     "data": {
      "text/plain": [
       "array([5, 4, 6, 1, 4, 3, 3, 3, 2, 6])"
      ]
     },
     "execution_count": 28,
     "metadata": {},
     "output_type": "execute_result"
    }
   ],
   "source": [
    "lanci_dadi = np.random.randint(1, 7, 10)\n",
    "lanci_dadi"
   ]
  },
  {
   "cell_type": "markdown",
   "id": "f80529d8",
   "metadata": {},
   "source": [
    "quali sono i lanci in cui il valore del dado era > 3?"
   ]
  },
  {
   "cell_type": "code",
   "execution_count": 30,
   "id": "4252e56e",
   "metadata": {},
   "outputs": [
    {
     "data": {
      "text/plain": [
       "array([ True,  True,  True, False,  True, False, False, False, False,\n",
       "        True])"
      ]
     },
     "execution_count": 30,
     "metadata": {},
     "output_type": "execute_result"
    }
   ],
   "source": [
    "lanci_gt_3 = lanci_dadi > 3\n",
    "lanci_gt_3"
   ]
  },
  {
   "cell_type": "code",
   "execution_count": 32,
   "id": "887e6973",
   "metadata": {},
   "outputs": [
    {
     "data": {
      "text/plain": [
       "array([5, 4, 6, 4, 6])"
      ]
     },
     "execution_count": 32,
     "metadata": {},
     "output_type": "execute_result"
    }
   ],
   "source": [
    "lanci_dadi[lanci_gt_3] # indicizzo array con array di booleani (filtra l'array dando solo valori > 3)"
   ]
  },
  {
   "cell_type": "code",
   "execution_count": 33,
   "id": "ec7cb770",
   "metadata": {},
   "outputs": [],
   "source": [
    "nomi = np.array([\"Alice\", \"Bob\", \"Trudy\"])\n",
    "voti = np.array([7, 9, 2])"
   ]
  },
  {
   "cell_type": "markdown",
   "id": "d9adcd96",
   "metadata": {},
   "source": [
    "quali alunni sono sufficienti?"
   ]
  },
  {
   "cell_type": "code",
   "execution_count": 35,
   "id": "57aeba5f",
   "metadata": {},
   "outputs": [
    {
     "data": {
      "text/plain": [
       "array(['Alice', 'Bob'], dtype='<U5')"
      ]
     },
     "execution_count": 35,
     "metadata": {},
     "output_type": "execute_result"
    }
   ],
   "source": [
    "nomi[voti >= 6]"
   ]
  },
  {
   "cell_type": "code",
   "execution_count": 37,
   "id": "0b025642",
   "metadata": {},
   "outputs": [
    {
     "data": {
      "text/plain": [
       "array([6, 5, 4, 5, 5, 4])"
      ]
     },
     "execution_count": 37,
     "metadata": {},
     "output_type": "execute_result"
    }
   ],
   "source": [
    "alice[alice > bob]"
   ]
  },
  {
   "cell_type": "markdown",
   "id": "ebcf7094",
   "metadata": {},
   "source": [
    "### Array bidimesionali\n",
    "Es: \n",
    "- un' immagine in scale di grigi\n",
    "- un' immagine a colori (RGB) è costituita da 3 array bidimensionale\n",
    "- un' immagine a colori (RGBA - A = alpha per trasparenza) è costituita da 4 array bidimensionale\n",
    "- i dati in forma di tabella\n"
   ]
  },
  {
   "cell_type": "code",
   "execution_count": 6,
   "id": "74dab75e",
   "metadata": {},
   "outputs": [
    {
     "data": {
      "text/plain": [
       "array([[0., 0., 0., 0., 0., 0.],\n",
       "       [0., 0., 0., 0., 0., 0.],\n",
       "       [0., 0., 0., 0., 0., 0.]])"
      ]
     },
     "execution_count": 6,
     "metadata": {},
     "output_type": "execute_result"
    }
   ],
   "source": [
    "matrice_di_zeri = np.zeros((3, 6))\n",
    "matrice_di_zeri"
   ]
  },
  {
   "cell_type": "code",
   "execution_count": 7,
   "id": "9e260d80",
   "metadata": {},
   "outputs": [
    {
     "data": {
      "text/plain": [
       "(3, 6)"
      ]
     },
     "execution_count": 7,
     "metadata": {},
     "output_type": "execute_result"
    }
   ],
   "source": [
    "matrice_di_zeri.shape  #dice che \"forma\" ha l'array 2d"
   ]
  },
  {
   "cell_type": "code",
   "execution_count": 8,
   "id": "a1057512",
   "metadata": {},
   "outputs": [
    {
     "data": {
      "text/plain": [
       "array([0., 0., 0., 0., 0., 0., 0.])"
      ]
     },
     "execution_count": 8,
     "metadata": {},
     "output_type": "execute_result"
    }
   ],
   "source": [
    "array1d_di_zeri = np.zeros(7)\n",
    "array1d_di_zeri"
   ]
  },
  {
   "cell_type": "code",
   "execution_count": 9,
   "id": "dfda5028",
   "metadata": {},
   "outputs": [
    {
     "data": {
      "text/plain": [
       "(7,)"
      ]
     },
     "execution_count": 9,
     "metadata": {},
     "output_type": "execute_result"
    }
   ],
   "source": [
    "array1d_di_zeri.shape"
   ]
  },
  {
   "cell_type": "code",
   "execution_count": 10,
   "id": "d7a52c36",
   "metadata": {},
   "outputs": [
    {
     "data": {
      "text/plain": [
       "array([[1., 1., 1., 1., 1., 1., 1., 1.],\n",
       "       [1., 1., 1., 1., 1., 1., 1., 1.],\n",
       "       [1., 1., 1., 1., 1., 1., 1., 1.],\n",
       "       [1., 1., 1., 1., 1., 1., 1., 1.],\n",
       "       [1., 1., 1., 1., 1., 1., 1., 1.],\n",
       "       [1., 1., 1., 1., 1., 1., 1., 1.],\n",
       "       [1., 1., 1., 1., 1., 1., 1., 1.],\n",
       "       [1., 1., 1., 1., 1., 1., 1., 1.],\n",
       "       [1., 1., 1., 1., 1., 1., 1., 1.],\n",
       "       [1., 1., 1., 1., 1., 1., 1., 1.]])"
      ]
     },
     "execution_count": 10,
     "metadata": {},
     "output_type": "execute_result"
    }
   ],
   "source": [
    "np.ones((10, 8))"
   ]
  },
  {
   "cell_type": "code",
   "execution_count": 16,
   "id": "694f69bf",
   "metadata": {},
   "outputs": [
    {
     "data": {
      "text/plain": [
       "array([['1', '2', '3'],\n",
       "       ['4', '5', 'ciao']], dtype='<U11')"
      ]
     },
     "execution_count": 16,
     "metadata": {},
     "output_type": "execute_result"
    }
   ],
   "source": [
    "np.array(([1, 2, 3], [4, 5, \"ciao\"]))"
   ]
  },
  {
   "cell_type": "code",
   "execution_count": 18,
   "id": "d916c199",
   "metadata": {},
   "outputs": [
    {
     "data": {
      "text/plain": [
       "array([[3, 2],\n",
       "       [6, 1],\n",
       "       [3, 5],\n",
       "       [4, 4],\n",
       "       [5, 1],\n",
       "       [4, 5],\n",
       "       [3, 4],\n",
       "       [6, 2],\n",
       "       [1, 4],\n",
       "       [1, 2]])"
      ]
     },
     "execution_count": 18,
     "metadata": {},
     "output_type": "execute_result"
    }
   ],
   "source": [
    "np.random.randint(1, 7, (10, 2))"
   ]
  },
  {
   "cell_type": "code",
   "execution_count": 19,
   "id": "500381c5",
   "metadata": {},
   "outputs": [
    {
     "data": {
      "text/plain": [
       "array([[0.0879167 , 0.23117917, 0.56520325, 0.72265259],\n",
       "       [0.030436  , 0.9393501 , 0.91189738, 0.16141891],\n",
       "       [0.03817629, 0.89650222, 0.21447646, 0.80653663],\n",
       "       [0.05571532, 0.03991172, 0.99746069, 0.10884552]])"
      ]
     },
     "execution_count": 19,
     "metadata": {},
     "output_type": "execute_result"
    }
   ],
   "source": [
    "np.random.uniform(0, 1, (4, 4))"
   ]
  },
  {
   "cell_type": "code",
   "execution_count": 22,
   "id": "f2c9b298",
   "metadata": {
    "scrolled": true
   },
   "outputs": [
    {
     "data": {
      "text/plain": [
       "array([[[0.94192168, 0.23378749],\n",
       "        [0.43730311, 0.82286056],\n",
       "        [0.07260631, 0.02450405]],\n",
       "\n",
       "       [[0.30782582, 0.11063745],\n",
       "        [0.35086412, 0.84638081],\n",
       "        [0.55935683, 0.89399435]],\n",
       "\n",
       "       [[0.91358595, 0.54624915],\n",
       "        [0.41014315, 0.00362801],\n",
       "        [0.52886721, 0.18020014]]])"
      ]
     },
     "execution_count": 22,
     "metadata": {},
     "output_type": "execute_result"
    }
   ],
   "source": [
    "array_3d = np.random.uniform(0, 1, (3, 3, 2)) # so ottengono 3 matrici 3*2\n",
    "array_3d"
   ]
  },
  {
   "cell_type": "code",
   "execution_count": 23,
   "id": "7191ee20",
   "metadata": {},
   "outputs": [
    {
     "data": {
      "text/plain": [
       "(3, 3, 2)"
      ]
     },
     "execution_count": 23,
     "metadata": {},
     "output_type": "execute_result"
    }
   ],
   "source": [
    "array_3d.shape"
   ]
  },
  {
   "cell_type": "markdown",
   "id": "19ffc2dd",
   "metadata": {},
   "source": [
    "### Operazioni matematiche di aggregazione\n",
    "\n",
    "- somma\n",
    "- max e min\n",
    "- dev. standard\n",
    "- somma cumulata\n",
    "- media"
   ]
  },
  {
   "cell_type": "code",
   "execution_count": 27,
   "id": "b60327f5",
   "metadata": {},
   "outputs": [
    {
     "data": {
      "text/plain": [
       "5050"
      ]
     },
     "execution_count": 27,
     "metadata": {},
     "output_type": "execute_result"
    }
   ],
   "source": [
    "# somma\n",
    "array = np.arange(1, 101)\n",
    "np.sum(array)"
   ]
  },
  {
   "cell_type": "code",
   "execution_count": 29,
   "id": "5556e347",
   "metadata": {},
   "outputs": [
    {
     "data": {
      "text/plain": [
       "array([0.08987527, 0.52855879, 0.27205169, 0.64627612, 0.81918841,\n",
       "       0.61667446, 0.90410166, 0.51658035, 0.17037322, 0.51718376])"
      ]
     },
     "execution_count": 29,
     "metadata": {},
     "output_type": "execute_result"
    }
   ],
   "source": [
    "# massimo/minimo\n",
    "array = np.random.uniform(0, 1, 10)\n",
    "array"
   ]
  },
  {
   "cell_type": "code",
   "execution_count": 30,
   "id": "cb1e50c8",
   "metadata": {},
   "outputs": [
    {
     "data": {
      "text/plain": [
       "0.9041016632969788"
      ]
     },
     "execution_count": 30,
     "metadata": {},
     "output_type": "execute_result"
    }
   ],
   "source": [
    "np.max(array) #massimo"
   ]
  },
  {
   "cell_type": "code",
   "execution_count": 31,
   "id": "dc100c17",
   "metadata": {},
   "outputs": [
    {
     "data": {
      "text/plain": [
       "0.2509457050365091"
      ]
     },
     "execution_count": 31,
     "metadata": {},
     "output_type": "execute_result"
    }
   ],
   "source": [
    "np.std(array) #deviazione standard"
   ]
  },
  {
   "cell_type": "code",
   "execution_count": 33,
   "id": "68dea2e4",
   "metadata": {},
   "outputs": [
    {
     "data": {
      "text/plain": [
       "array([1., 1., 1., 1., 1., 1., 1., 1., 1., 1.])"
      ]
     },
     "execution_count": 33,
     "metadata": {},
     "output_type": "execute_result"
    }
   ],
   "source": [
    "array_di_uni = np.ones(10)\n",
    "array_di_uni"
   ]
  },
  {
   "cell_type": "code",
   "execution_count": 35,
   "id": "b8d26285",
   "metadata": {},
   "outputs": [
    {
     "data": {
      "text/plain": [
       "array([ 1.,  2.,  3.,  4.,  5.,  6.,  7.,  8.,  9., 10.])"
      ]
     },
     "execution_count": 35,
     "metadata": {},
     "output_type": "execute_result"
    }
   ],
   "source": [
    "np.cumsum(array_di_uni) #somma cumulata"
   ]
  },
  {
   "cell_type": "code",
   "execution_count": 36,
   "id": "a740fc13",
   "metadata": {},
   "outputs": [],
   "source": [
    "prezzo_apple = 178\n",
    "variazioni = np.array([8, 3, -20, 6])"
   ]
  },
  {
   "cell_type": "code",
   "execution_count": 38,
   "id": "ea0a4159",
   "metadata": {},
   "outputs": [
    {
     "data": {
      "text/plain": [
       "array([186, 189, 169, 175])"
      ]
     },
     "execution_count": 38,
     "metadata": {},
     "output_type": "execute_result"
    }
   ],
   "source": [
    "prezzo_apple + np.cumsum(variazioni)"
   ]
  },
  {
   "cell_type": "markdown",
   "id": "312360bd",
   "metadata": {},
   "source": [
    "### Cambiare forma agli array"
   ]
  },
  {
   "cell_type": "code",
   "execution_count": 41,
   "id": "714ba9d4",
   "metadata": {},
   "outputs": [
    {
     "data": {
      "text/plain": [
       "array([ 1,  2,  3,  4,  5,  6,  7,  8,  9, 10, 11, 12])"
      ]
     },
     "execution_count": 41,
     "metadata": {},
     "output_type": "execute_result"
    }
   ],
   "source": [
    "array_1d = np.arange(1, 13)\n",
    "array_1d"
   ]
  },
  {
   "cell_type": "code",
   "execution_count": 42,
   "id": "cf172074",
   "metadata": {},
   "outputs": [
    {
     "data": {
      "text/plain": [
       "array([[ 1,  2,  3,  4],\n",
       "       [ 5,  6,  7,  8],\n",
       "       [ 9, 10, 11, 12]])"
      ]
     },
     "execution_count": 42,
     "metadata": {},
     "output_type": "execute_result"
    }
   ],
   "source": [
    "array_1d.reshape((3, 4))"
   ]
  },
  {
   "cell_type": "code",
   "execution_count": 43,
   "id": "11395780",
   "metadata": {},
   "outputs": [
    {
     "data": {
      "text/plain": [
       "array([[ 1,  2],\n",
       "       [ 3,  4],\n",
       "       [ 5,  6],\n",
       "       [ 7,  8],\n",
       "       [ 9, 10],\n",
       "       [11, 12]])"
      ]
     },
     "execution_count": 43,
     "metadata": {},
     "output_type": "execute_result"
    }
   ],
   "source": [
    "array_1d.reshape((6, 2))"
   ]
  },
  {
   "cell_type": "code",
   "execution_count": 44,
   "id": "02ae1d01",
   "metadata": {},
   "outputs": [
    {
     "data": {
      "text/plain": [
       "array([[ 1,  2,  3,  4],\n",
       "       [ 5,  6,  7,  8],\n",
       "       [ 9, 10, 11, 12]])"
      ]
     },
     "execution_count": 44,
     "metadata": {},
     "output_type": "execute_result"
    }
   ],
   "source": [
    "array_1d.reshape((3, -1))  #con il -1 il pc calcola il numero di colonne da solo"
   ]
  },
  {
   "cell_type": "markdown",
   "id": "4a9dd413",
   "metadata": {},
   "source": [
    "### Esercizio\n",
    "Dato n generare array 2d fatto in questo modo\n",
    "\n",
    "    [[1, 2, 3,..., n],\n",
    "    [[1, 2, 3,..., n],\n",
    "    ...\n",
    "    ...\n",
    "    [1, 2, 3,..., n]\n",
    "  \n",
    "con n righe"
   ]
  },
  {
   "cell_type": "code",
   "execution_count": 53,
   "id": "847dc4c7",
   "metadata": {},
   "outputs": [
    {
     "data": {
      "text/plain": [
       "array([[1, 2, 3, 0],\n",
       "       [1, 2, 3, 0],\n",
       "       [1, 2, 3, 0],\n",
       "       [1, 2, 3, 0]], dtype=int32)"
      ]
     },
     "execution_count": 53,
     "metadata": {},
     "output_type": "execute_result"
    }
   ],
   "source": [
    "n = 4\n",
    "array1d = np.arange(1, n*n+1)\n",
    "array2d = (array1d%n).reshape(n, -1)\n",
    "array2d"
   ]
  },
  {
   "cell_type": "code",
   "execution_count": 56,
   "id": "f4f94f96",
   "metadata": {},
   "outputs": [
    {
     "data": {
      "text/plain": [
       "array([[1, 2, 3, 4],\n",
       "       [1, 2, 3, 4],\n",
       "       [1, 2, 3, 4],\n",
       "       [1, 2, 3, 4]], dtype=int32)"
      ]
     },
     "execution_count": 56,
     "metadata": {},
     "output_type": "execute_result"
    }
   ],
   "source": [
    "array2d = 1 + np.roll(array2d, 1)  #\"spinge\" in avanti (a dx) tutti gli elementi dell'array\n",
    "array2d"
   ]
  },
  {
   "cell_type": "code",
   "execution_count": 57,
   "id": "47df4350",
   "metadata": {},
   "outputs": [
    {
     "data": {
      "text/plain": [
       "array([1, 2, 3, 4, 1, 2, 3, 4, 1, 2, 3, 4, 1, 2, 3, 4], dtype=int32)"
      ]
     },
     "execution_count": 57,
     "metadata": {},
     "output_type": "execute_result"
    }
   ],
   "source": [
    "array2d.reshape(-1)"
   ]
  },
  {
   "cell_type": "code",
   "execution_count": 58,
   "id": "e4077de9",
   "metadata": {},
   "outputs": [
    {
     "data": {
      "text/plain": [
       "array([1, 2, 3, 4, 1, 2, 3, 4, 1, 2, 3, 4, 1, 2, 3, 4], dtype=int32)"
      ]
     },
     "execution_count": 58,
     "metadata": {},
     "output_type": "execute_result"
    }
   ],
   "source": [
    "array2d.flatten()"
   ]
  },
  {
   "cell_type": "markdown",
   "id": "0a3eac03",
   "metadata": {},
   "source": [
    "### Slicing"
   ]
  },
  {
   "cell_type": "code",
   "execution_count": 60,
   "id": "651aa7df",
   "metadata": {},
   "outputs": [
    {
     "data": {
      "text/plain": [
       "array([ 1,  2,  3,  4,  5,  6,  7,  8,  9, 10])"
      ]
     },
     "execution_count": 60,
     "metadata": {},
     "output_type": "execute_result"
    }
   ],
   "source": [
    "array1d = np.arange(1, 11)\n",
    "array1d"
   ]
  },
  {
   "cell_type": "code",
   "execution_count": 61,
   "id": "3310b916",
   "metadata": {},
   "outputs": [
    {
     "data": {
      "text/plain": [
       "4"
      ]
     },
     "execution_count": 61,
     "metadata": {},
     "output_type": "execute_result"
    }
   ],
   "source": [
    "array1d[3]"
   ]
  },
  {
   "cell_type": "code",
   "execution_count": 63,
   "id": "24a8ed96",
   "metadata": {},
   "outputs": [
    {
     "data": {
      "text/plain": [
       "array([4, 5, 6, 7, 8])"
      ]
     },
     "execution_count": 63,
     "metadata": {},
     "output_type": "execute_result"
    }
   ],
   "source": [
    "array1d[3:8]"
   ]
  },
  {
   "cell_type": "code",
   "execution_count": 64,
   "id": "bf066ce4",
   "metadata": {},
   "outputs": [
    {
     "data": {
      "text/plain": [
       "10"
      ]
     },
     "execution_count": 64,
     "metadata": {},
     "output_type": "execute_result"
    }
   ],
   "source": [
    "array1d[-1] #ultimo elemento"
   ]
  },
  {
   "cell_type": "code",
   "execution_count": 65,
   "id": "8371c74e",
   "metadata": {},
   "outputs": [
    {
     "data": {
      "text/plain": [
       "9"
      ]
     },
     "execution_count": 65,
     "metadata": {},
     "output_type": "execute_result"
    }
   ],
   "source": [
    "array1d[-2]"
   ]
  },
  {
   "cell_type": "code",
   "execution_count": 66,
   "id": "b34a1b58",
   "metadata": {},
   "outputs": [
    {
     "data": {
      "text/plain": [
       "array([2, 3, 4, 5, 6, 7, 8, 9])"
      ]
     },
     "execution_count": 66,
     "metadata": {},
     "output_type": "execute_result"
    }
   ],
   "source": [
    "array1d[1:-1]"
   ]
  },
  {
   "cell_type": "code",
   "execution_count": 67,
   "id": "a0cbbd74",
   "metadata": {},
   "outputs": [
    {
     "data": {
      "text/plain": [
       "array([ 2,  3,  4,  5,  6,  7,  8,  9, 10])"
      ]
     },
     "execution_count": 67,
     "metadata": {},
     "output_type": "execute_result"
    }
   ],
   "source": [
    "array1d[1:]"
   ]
  },
  {
   "cell_type": "code",
   "execution_count": 68,
   "id": "e18e889f",
   "metadata": {},
   "outputs": [
    {
     "data": {
      "text/plain": [
       "array([4, 6, 8])"
      ]
     },
     "execution_count": 68,
     "metadata": {},
     "output_type": "execute_result"
    }
   ],
   "source": [
    "array1d[3:8:2]"
   ]
  },
  {
   "cell_type": "code",
   "execution_count": 73,
   "id": "45d0a1c9",
   "metadata": {},
   "outputs": [
    {
     "data": {
      "text/plain": [
       "array([[0.77132064, 0.02075195, 0.63364823],\n",
       "       [0.74880388, 0.49850701, 0.22479665],\n",
       "       [0.19806286, 0.76053071, 0.16911084]])"
      ]
     },
     "execution_count": 73,
     "metadata": {},
     "output_type": "execute_result"
    }
   ],
   "source": [
    "np.random.seed(10)  #blocca il seme\n",
    "array2d = np.random.uniform(0, 1, (3,3))\n",
    "array2d"
   ]
  },
  {
   "cell_type": "code",
   "execution_count": 74,
   "id": "8e030f1c",
   "metadata": {},
   "outputs": [
    {
     "data": {
      "text/plain": [
       "0.771320643266746"
      ]
     },
     "execution_count": 74,
     "metadata": {},
     "output_type": "execute_result"
    }
   ],
   "source": [
    "array2d[0, 0]"
   ]
  },
  {
   "cell_type": "code",
   "execution_count": 75,
   "id": "dc1a2fd0",
   "metadata": {},
   "outputs": [
    {
     "data": {
      "text/plain": [
       "0.22479664553084766"
      ]
     },
     "execution_count": 75,
     "metadata": {},
     "output_type": "execute_result"
    }
   ],
   "source": [
    "array2d[1, 2]"
   ]
  },
  {
   "cell_type": "code",
   "execution_count": 76,
   "id": "55db6a8a",
   "metadata": {},
   "outputs": [
    {
     "data": {
      "text/plain": [
       "array([[0.74880388, 0.49850701, 0.22479665],\n",
       "       [0.19806286, 0.76053071, 0.16911084]])"
      ]
     },
     "execution_count": 76,
     "metadata": {},
     "output_type": "execute_result"
    }
   ],
   "source": [
    "array2d[1:]  # da la 2 e 3 riga della matrice"
   ]
  },
  {
   "cell_type": "code",
   "execution_count": 77,
   "id": "dae4d6e0",
   "metadata": {},
   "outputs": [
    {
     "data": {
      "text/plain": [
       "array([[0.02075195, 0.63364823],\n",
       "       [0.49850701, 0.22479665],\n",
       "       [0.76053071, 0.16911084]])"
      ]
     },
     "execution_count": 77,
     "metadata": {},
     "output_type": "execute_result"
    }
   ],
   "source": [
    "array2d[:, 1:]  #toglie la prima colonna [righe, colonne, gap]"
   ]
  },
  {
   "cell_type": "code",
   "execution_count": 78,
   "id": "6fbe5bd1",
   "metadata": {},
   "outputs": [
    {
     "data": {
      "text/plain": [
       "array([[0.49850701, 0.22479665],\n",
       "       [0.76053071, 0.16911084]])"
      ]
     },
     "execution_count": 78,
     "metadata": {},
     "output_type": "execute_result"
    }
   ],
   "source": [
    "array2d[1:, 1:]"
   ]
  },
  {
   "cell_type": "code",
   "execution_count": 81,
   "id": "afc7d162",
   "metadata": {},
   "outputs": [
    {
     "data": {
      "text/plain": [
       "array([[0.77132064, 0.        , 0.        ],\n",
       "       [0.74880388, 0.        , 0.        ],\n",
       "       [0.19806286, 0.        , 0.        ]])"
      ]
     },
     "execution_count": 81,
     "metadata": {},
     "output_type": "execute_result"
    }
   ],
   "source": [
    "array2d[1:, 1:] = 0  #assgna alle colonne tolte 0\n",
    "array2d"
   ]
  },
  {
   "cell_type": "code",
   "execution_count": null,
   "id": "7da1dee2",
   "metadata": {},
   "outputs": [],
   "source": []
  }
 ],
 "metadata": {
  "kernelspec": {
   "display_name": "Python 3 (ipykernel)",
   "language": "python",
   "name": "python3"
  },
  "language_info": {
   "codemirror_mode": {
    "name": "ipython",
    "version": 3
   },
   "file_extension": ".py",
   "mimetype": "text/x-python",
   "name": "python",
   "nbconvert_exporter": "python",
   "pygments_lexer": "ipython3",
   "version": "3.10.9"
  }
 },
 "nbformat": 4,
 "nbformat_minor": 5
}
