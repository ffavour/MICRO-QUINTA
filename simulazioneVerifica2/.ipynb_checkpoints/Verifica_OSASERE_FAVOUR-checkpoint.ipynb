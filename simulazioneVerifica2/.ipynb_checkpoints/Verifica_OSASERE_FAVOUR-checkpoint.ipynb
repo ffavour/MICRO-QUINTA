{
 "cells": [
  {
   "cell_type": "markdown",
   "id": "44ce9d47",
   "metadata": {},
   "source": [
    "# Verifica su Python e Numpy\n",
    "### OSASERE FAVOUR"
   ]
  },
  {
   "cell_type": "code",
   "execution_count": 1,
   "id": "6f9ac6d2",
   "metadata": {},
   "outputs": [],
   "source": [
    "import numpy as np\n",
    "import matplotlib.pyplot as plt"
   ]
  },
  {
   "cell_type": "markdown",
   "id": "e75da7dd",
   "metadata": {},
   "source": [
    "## ESERCIZIO 1\n",
    "Il file *10000Pi.txt* contiene le prime 10000 cifre del $\\pi$ in base 10.\n",
    "\n",
    "Crea un programma in Python 3 (decidi se usare Numpy oppure no) che legga il file e generi un dizionario in cui:\n",
    "* le chiavi siano le cifre da 0 a 9,\n",
    "* i valori siano il numero di occorrenze della cifra chiave nelle prime 10000 cifre decimali del $\\pi$.\n",
    "\n",
    "Rispondi alle domande seguenti:\n",
    "* nelle cifre del $\\pi$ capita più spesso uno 0 dopo il 9 oppure un 9 dopo lo 0? 0 dopo il 9\n",
    "* è presente la seguenza 999999? In caso di risposta affermativa individua in quale punto della sequenza di cifre decimali è presente."
   ]
  },
  {
   "cell_type": "code",
   "execution_count": 2,
   "id": "c238539f",
   "metadata": {},
   "outputs": [],
   "source": [
    "def leggiFile():\n",
    "    file = open(\"10000Pi.txt\", \"r\")\n",
    "    cifre = file.read()\n",
    "    file.close()\n",
    "    \n",
    "    cifre = cifre[:-2]\n",
    "    \n",
    "    \n",
    "    return list(cifre)"
   ]
  },
  {
   "cell_type": "code",
   "execution_count": 3,
   "id": "68166091",
   "metadata": {},
   "outputs": [],
   "source": [
    "def creaDizFrequenze(lista):\n",
    "    frequenze = {}\n",
    "\n",
    "    for elemento in lista:\n",
    "        if int(elemento) in frequenze:\n",
    "            frequenze[int(elemento)] += 1\n",
    "        else:\n",
    "            frequenze[int(elemento)] = 1\n",
    "\n",
    "    return frequenze"
   ]
  },
  {
   "cell_type": "code",
   "execution_count": 4,
   "id": "66250575",
   "metadata": {},
   "outputs": [],
   "source": [
    "piGreco = leggiFile()\n",
    "cifrePiGreco = piGreco[2:]\n",
    "#print(cifrePiGreco)"
   ]
  },
  {
   "cell_type": "code",
   "execution_count": 5,
   "id": "390a671c",
   "metadata": {},
   "outputs": [
    {
     "data": {
      "text/plain": [
       "{1: 1026,\n",
       " 4: 1012,\n",
       " 5: 1046,\n",
       " 9: 1014,\n",
       " 2: 1021,\n",
       " 6: 1021,\n",
       " 3: 974,\n",
       " 8: 948,\n",
       " 7: 970,\n",
       " 0: 968}"
      ]
     },
     "execution_count": 5,
     "metadata": {},
     "output_type": "execute_result"
    }
   ],
   "source": [
    "frequenze = creaDizFrequenze(cifrePiGreco)\n",
    "frequenze"
   ]
  },
  {
   "cell_type": "code",
   "execution_count": 33,
   "id": "d9debec9",
   "metadata": {},
   "outputs": [],
   "source": [
    "vettorePigreco = np.array(cifrePiGreco)\n",
    "aSx = np.roll(cifrePiGreco, -1)"
   ]
  },
  {
   "cell_type": "code",
   "execution_count": 34,
   "id": "ae3db117",
   "metadata": {},
   "outputs": [
    {
     "name": "stdout",
     "output_type": "stream",
     "text": [
      "1 <class 'numpy.str_'>\n",
      "['4' '1' '5' ... '7' '8' '1']\n"
     ]
    }
   ],
   "source": [
    "print(vettorePigreco[0], type(vettorePigreco[0]))\n",
    "print(aSx)"
   ]
  },
  {
   "cell_type": "code",
   "execution_count": 35,
   "id": "2864d0d1",
   "metadata": {},
   "outputs": [
    {
     "data": {
      "text/plain": [
       "array([False, False, False, ..., False, False, False])"
      ]
     },
     "execution_count": 35,
     "metadata": {},
     "output_type": "execute_result"
    }
   ],
   "source": [
    "seq09 = ((vettorePigreco == \"0\") & (aSx == \"9\"))\n",
    "seq09"
   ]
  },
  {
   "cell_type": "code",
   "execution_count": 36,
   "id": "aa1baf7e",
   "metadata": {},
   "outputs": [
    {
     "data": {
      "text/plain": [
       "array([False, False, False, ..., False, False, False])"
      ]
     },
     "execution_count": 36,
     "metadata": {},
     "output_type": "execute_result"
    }
   ],
   "source": [
    "seq90 = ((vettorePigreco == \"9\") & (aSx == \"0\"))\n",
    "seq90"
   ]
  },
  {
   "cell_type": "code",
   "execution_count": 37,
   "id": "ec73749b",
   "metadata": {},
   "outputs": [
    {
     "name": "stdout",
     "output_type": "stream",
     "text": [
      "115\n",
      "112\n"
     ]
    }
   ],
   "source": [
    "frequenza_09 = np.count_nonzero(seq09 == True)\n",
    "frequenza_90 = np.count_nonzero(seq90 == True)\n",
    "\n",
    "print(frequenza_09)\n",
    "print(frequenza_90)"
   ]
  },
  {
   "cell_type": "code",
   "execution_count": 11,
   "id": "82feae40",
   "metadata": {},
   "outputs": [],
   "source": [
    "#9 9 9 9 9 9\n",
    "aDx1 = np.roll(vettorePigreco, 1)\n",
    "aDx2 = np.roll(vettorePigreco, 2)\n",
    "aDx3 = np.roll(vettorePigreco, 3)\n",
    "aDx4 = np.roll(vettorePigreco, 4)\n",
    "aDx5 = np.roll(vettorePigreco, 5)"
   ]
  },
  {
   "cell_type": "code",
   "execution_count": 12,
   "id": "9a045316",
   "metadata": {},
   "outputs": [
    {
     "data": {
      "text/plain": [
       "array([False, False, False, ..., False, False, False])"
      ]
     },
     "execution_count": 12,
     "metadata": {},
     "output_type": "execute_result"
    }
   ],
   "source": [
    "seq999999 = ((vettorePigreco == \"9\") & (aDx1 == \"9\") & (aDx2 == \"9\") & (aDx3 == \"9\") & (aDx4 == \"9\") & (aDx5 == \"9\"))\n",
    "seq999999"
   ]
  },
  {
   "cell_type": "code",
   "execution_count": 13,
   "id": "d403279e",
   "metadata": {},
   "outputs": [
    {
     "data": {
      "text/plain": [
       "array([   0,    1,    2, ..., 9997, 9998, 9999])"
      ]
     },
     "execution_count": 13,
     "metadata": {},
     "output_type": "execute_result"
    }
   ],
   "source": [
    "indici = np.arange(0, len(vettorePigreco))\n",
    "indici"
   ]
  },
  {
   "cell_type": "code",
   "execution_count": 14,
   "id": "2a7ceb00",
   "metadata": {},
   "outputs": [
    {
     "data": {
      "text/plain": [
       "array([766])"
      ]
     },
     "execution_count": 14,
     "metadata": {},
     "output_type": "execute_result"
    }
   ],
   "source": [
    "indici[seq999999] #dove finisce la sequenza"
   ]
  },
  {
   "cell_type": "markdown",
   "id": "8446b35f",
   "metadata": {},
   "source": [
    "## ESERCIZIO 2\n",
    "Dato un numero intero n crea un array numpy unidimensionale fatto in questo modo:\n",
    "\n",
    "    [-n, -n+1, -n+2, ...,-1, 0, 1, ..., n-2, n-1, n]\n",
    "    \n",
    "Per esempio se n=3 l'array è:\n",
    "\n",
    "    [-3, -2, -1, 0, 1, 2, 3]\n",
    "    \n",
    "**NON PUOI USARE CICLI, IF E LISTE**"
   ]
  },
  {
   "cell_type": "code",
   "execution_count": 15,
   "id": "dd7a28bb",
   "metadata": {},
   "outputs": [
    {
     "data": {
      "text/plain": [
       "array([-3, -2, -1,  0,  1,  2,  3])"
      ]
     },
     "execution_count": 15,
     "metadata": {},
     "output_type": "execute_result"
    }
   ],
   "source": [
    "#soluzione qui\n",
    "n = 3\n",
    "array = np.arange(-n, n + 1)\n",
    "array"
   ]
  },
  {
   "cell_type": "code",
   "execution_count": 65,
   "id": "e5bbe441",
   "metadata": {},
   "outputs": [
    {
     "data": {
      "text/plain": [
       "array([-3, -2, -1,  1,  2,  3])"
      ]
     },
     "execution_count": 65,
     "metadata": {},
     "output_type": "execute_result"
    }
   ],
   "source": [
    "array[array != 0]"
   ]
  },
  {
   "cell_type": "markdown",
   "id": "c681a56c",
   "metadata": {},
   "source": [
    "### ESERCIZIO 3\n",
    "Simula 100 partite di pari e dispari tra Alice e Bob. Ogni partita è giocata con una mano, quindi i numeri mostrati da Alice e da Bob sono sempre compresi tra 1 e 5. **Simula le partite usando un solo array bidimensionale.**\n",
    "\n",
    "Alice dichiara sempre pari e Bob sempre dispari.\n",
    "\n",
    "1) Quante volte vince Alice?\n",
    "\n",
    "2) Se nelle 100 partite Alice fa uscire sempre 3, quante volte vince?\n",
    "\n",
    "**NON PUOI USARE CICLI, IF E LISTE**"
   ]
  },
  {
   "cell_type": "code",
   "execution_count": 66,
   "id": "58177ffd",
   "metadata": {},
   "outputs": [
    {
     "data": {
      "text/plain": [
       "array([[2, 3, 1, 1, 5, 4, 4, 5, 3, 1, 4, 2, 3, 3, 4, 1, 4, 2, 3, 3, 4, 1,\n",
       "        5, 4, 4, 2, 5, 5, 5, 4, 4, 5, 2, 5, 1, 3, 5, 4, 1, 1, 5, 5, 5, 5,\n",
       "        1, 5, 1, 2, 2, 2, 2, 3, 2, 5, 5, 2, 1, 5, 2, 2, 1, 2, 1, 5, 1, 3,\n",
       "        4, 2, 1, 3, 5, 3, 3, 4, 4, 3, 4, 1, 4, 4, 1, 5, 2, 3, 3, 3, 1, 5,\n",
       "        3, 4, 1, 2, 1, 5, 3, 1, 4, 4, 2, 5],\n",
       "       [3, 5, 1, 1, 4, 2, 5, 3, 4, 1, 2, 4, 5, 1, 5, 4, 2, 4, 3, 5, 1, 1,\n",
       "        5, 1, 1, 1, 1, 4, 4, 2, 2, 3, 1, 5, 2, 4, 4, 1, 4, 5, 2, 3, 1, 5,\n",
       "        4, 5, 3, 2, 4, 3, 1, 4, 1, 4, 2, 5, 5, 3, 5, 2, 2, 2, 3, 3, 4, 2,\n",
       "        2, 4, 5, 4, 3, 2, 5, 4, 4, 1, 4, 2, 3, 2, 1, 3, 4, 4, 5, 1, 3, 5,\n",
       "        2, 4, 4, 2, 2, 4, 5, 5, 4, 3, 1, 1]])"
      ]
     },
     "execution_count": 66,
     "metadata": {},
     "output_type": "execute_result"
    }
   ],
   "source": [
    "nPartite = 100\n",
    "matriceRisultati = np.random.randint(1 , 6, (2, nPartite))\n",
    "matriceRisultati"
   ]
  },
  {
   "cell_type": "code",
   "execution_count": 67,
   "id": "f4c57319",
   "metadata": {},
   "outputs": [
    {
     "data": {
      "text/plain": [
       "array([ 5,  8,  2,  2,  9,  6,  9,  8,  7,  2,  6,  6,  8,  4,  9,  5,  6,\n",
       "        6,  6,  8,  5,  2, 10,  5,  5,  3,  6,  9,  9,  6,  6,  8,  3, 10,\n",
       "        3,  7,  9,  5,  5,  6,  7,  8,  6, 10,  5, 10,  4,  4,  6,  5,  3,\n",
       "        7,  3,  9,  7,  7,  6,  8,  7,  4,  3,  4,  4,  8,  5,  5,  6,  6,\n",
       "        6,  7,  8,  5,  8,  8,  8,  4,  8,  3,  7,  6,  2,  8,  6,  7,  8,\n",
       "        4,  4, 10,  5,  8,  5,  4,  3,  9,  8,  6,  8,  7,  3,  6])"
      ]
     },
     "execution_count": 67,
     "metadata": {},
     "output_type": "execute_result"
    }
   ],
   "source": [
    "matriceVittorie = matriceRisultati[0] + matriceRisultati[1]\n",
    "matriceVittorie"
   ]
  },
  {
   "cell_type": "code",
   "execution_count": 68,
   "id": "42104481",
   "metadata": {},
   "outputs": [
    {
     "name": "stdout",
     "output_type": "stream",
     "text": [
      "58\n",
      "42\n"
     ]
    }
   ],
   "source": [
    "vittorieAlice = np.count_nonzero(matriceVittorie[matriceVittorie % 2 == 0])\n",
    "vittorieBob = np.count_nonzero(matriceVittorie[matriceVittorie % 2 == 1])\n",
    "\n",
    "print(vittorieAlice)\n",
    "print(vittorieBob)"
   ]
  },
  {
   "cell_type": "code",
   "execution_count": 69,
   "id": "827bac26",
   "metadata": {},
   "outputs": [
    {
     "data": {
      "text/plain": [
       "array([[3, 3, 3, 3, 3, 3, 3, 3, 3, 3, 3, 3, 3, 3, 3, 3, 3, 3, 3, 3, 3, 3,\n",
       "        3, 3, 3, 3, 3, 3, 3, 3, 3, 3, 3, 3, 3, 3, 3, 3, 3, 3, 3, 3, 3, 3,\n",
       "        3, 3, 3, 3, 3, 3, 3, 3, 3, 3, 3, 3, 3, 3, 3, 3, 3, 3, 3, 3, 3, 3,\n",
       "        3, 3, 3, 3, 3, 3, 3, 3, 3, 3, 3, 3, 3, 3, 3, 3, 3, 3, 3, 3, 3, 3,\n",
       "        3, 3, 3, 3, 3, 3, 3, 3, 3, 3, 3, 3],\n",
       "       [3, 5, 1, 1, 4, 2, 5, 3, 4, 1, 2, 4, 5, 1, 5, 4, 2, 4, 3, 5, 1, 1,\n",
       "        5, 1, 1, 1, 1, 4, 4, 2, 2, 3, 1, 5, 2, 4, 4, 1, 4, 5, 2, 3, 1, 5,\n",
       "        4, 5, 3, 2, 4, 3, 1, 4, 1, 4, 2, 5, 5, 3, 5, 2, 2, 2, 3, 3, 4, 2,\n",
       "        2, 4, 5, 4, 3, 2, 5, 4, 4, 1, 4, 2, 3, 2, 1, 3, 4, 4, 5, 1, 3, 5,\n",
       "        2, 4, 4, 2, 2, 4, 5, 5, 4, 3, 1, 1]])"
      ]
     },
     "execution_count": 69,
     "metadata": {},
     "output_type": "execute_result"
    }
   ],
   "source": [
    "matriceRisultati2 = np.copy(matriceRisultati)\n",
    "matriceRisultati2[0] = 3 \n",
    "matriceRisultati2\n"
   ]
  },
  {
   "cell_type": "code",
   "execution_count": 70,
   "id": "8b3a0aaa",
   "metadata": {},
   "outputs": [
    {
     "data": {
      "text/plain": [
       "array([6, 8, 4, 4, 7, 5, 8, 6, 7, 4, 5, 7, 8, 4, 8, 7, 5, 7, 6, 8, 4, 4,\n",
       "       8, 4, 4, 4, 4, 7, 7, 5, 5, 6, 4, 8, 5, 7, 7, 4, 7, 8, 5, 6, 4, 8,\n",
       "       7, 8, 6, 5, 7, 6, 4, 7, 4, 7, 5, 8, 8, 6, 8, 5, 5, 5, 6, 6, 7, 5,\n",
       "       5, 7, 8, 7, 6, 5, 8, 7, 7, 4, 7, 5, 6, 5, 4, 6, 7, 7, 8, 4, 6, 8,\n",
       "       5, 7, 7, 5, 5, 7, 8, 8, 7, 6, 4, 4])"
      ]
     },
     "execution_count": 70,
     "metadata": {},
     "output_type": "execute_result"
    }
   ],
   "source": [
    "matriceVittorie2 = matriceRisultati2[0] + matriceRisultati2[1]\n",
    "matriceVittorie2"
   ]
  },
  {
   "cell_type": "code",
   "execution_count": 71,
   "id": "bda2fd93",
   "metadata": {},
   "outputs": [
    {
     "name": "stdout",
     "output_type": "stream",
     "text": [
      "54\n",
      "46\n"
     ]
    }
   ],
   "source": [
    "vittorieAlice2 = np.count_nonzero(matriceVittorie2[matriceVittorie2 % 2 == 0])\n",
    "vittorieBob2 = np.count_nonzero(matriceVittorie2[matriceVittorie2 % 2 == 1])\n",
    "\n",
    "print(vittorieAlice2)\n",
    "print(vittorieBob2)"
   ]
  },
  {
   "cell_type": "markdown",
   "id": "67ec09e9",
   "metadata": {},
   "source": [
    "## ESERCIZIO 4 (BONUS, Facoltativo per DSA)\n",
    "Usa numpy per creare l'immagine seguente composta da n righe e 2n colonne. L'intensità del colore è casuale nella metà sinistra della. matrice, a scacchiera nella metà destra. \n",
    "\n",
    "**NON PUOI USARE CICLI, IF E LISTE**\n",
    "\n",
    "Per esempio con n = 10:\n",
    "\n",
    "![matrice](matrice.png)\n",
    "\n",
    "Codice per visualizzare l'immagine:\n",
    "\n",
    "    plt.imshow(mat)"
   ]
  },
  {
   "cell_type": "code",
   "execution_count": 60,
   "id": "744604f2",
   "metadata": {},
   "outputs": [],
   "source": [
    "size_x = 10\n",
    "size_y = 2 * size_x\n",
    "image = np.zeros((size_x, size_y))\n"
   ]
  },
  {
   "cell_type": "code",
   "execution_count": 63,
   "id": "4091479c",
   "metadata": {},
   "outputs": [],
   "source": [
    "image[:,0:size_y//2] = 255 #toglie la prima colonna [righe, colonne, gap]"
   ]
  },
  {
   "cell_type": "code",
   "execution_count": null,
   "id": "9d3f4277",
   "metadata": {},
   "outputs": [],
   "source": []
  },
  {
   "cell_type": "code",
   "execution_count": 64,
   "id": "25ab17df",
   "metadata": {},
   "outputs": [
    {
     "data": {
      "text/plain": [
       "<matplotlib.image.AxesImage at 0x2622bc067a0>"
      ]
     },
     "execution_count": 64,
     "metadata": {},
     "output_type": "execute_result"
    },
    {
     "data": {
      "image/png": "[encoded data removed]",
      "text/plain": [
       "<Figure size 640x480 with 1 Axes>"
      ]
     },
     "metadata": {},
     "output_type": "display_data"
    }
   ],
   "source": [
    "plt.imshow(image)"
   ]
  },
  {
   "cell_type": "code",
   "execution_count": null,
   "id": "0909416b",
   "metadata": {},
   "outputs": [],
   "source": []
  },
  {
   "cell_type": "code",
   "execution_count": null,
   "id": "14c560ac",
   "metadata": {},
   "outputs": [],
   "source": []
  }
 ],
 "metadata": {
  "kernelspec": {
   "display_name": "Python 3 (ipykernel)",
   "language": "python",
   "name": "python3"
  },
  "language_info": {
   "codemirror_mode": {
    "name": "ipython",
    "version": 3
   },
   "file_extension": ".py",
   "mimetype": "text/x-python",
   "name": "python",
   "nbconvert_exporter": "python",
   "pygments_lexer": "ipython3",
   "version": "3.10.9"
  }
 },
 "nbformat": 4,
 "nbformat_minor": 5
}
